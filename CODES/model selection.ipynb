{
 "cells": [
  {
   "cell_type": "markdown",
   "id": "86ee2822",
   "metadata": {},
   "source": [
    "# Model Selection"
   ]
  },
  {
   "cell_type": "markdown",
   "id": "08094203",
   "metadata": {},
   "source": [
    "### Import the libraries"
   ]
  },
  {
   "cell_type": "code",
   "execution_count": 1,
   "id": "0087dbe7",
   "metadata": {},
   "outputs": [],
   "source": [
    "import numpy as np\n",
    "import pandas as pd\n",
    "from sklearn.model_selection import cross_val_score\n",
    "from sklearn.metrics import r2_score\n",
    "from sklearn import metrics\n",
    "import seaborn as sns\n",
    "import pickle\n",
    "\n",
    "import warnings\n",
    "warnings.filterwarnings('ignore')"
   ]
  },
  {
   "cell_type": "markdown",
   "id": "c68088ed",
   "metadata": {},
   "source": [
    "### Import the dataset"
   ]
  },
  {
   "cell_type": "code",
   "execution_count": 2,
   "id": "0687a020",
   "metadata": {},
   "outputs": [
    {
     "data": {
      "text/html": [
       "<div>\n",
       "<style scoped>\n",
       "    .dataframe tbody tr th:only-of-type {\n",
       "        vertical-align: middle;\n",
       "    }\n",
       "\n",
       "    .dataframe tbody tr th {\n",
       "        vertical-align: top;\n",
       "    }\n",
       "\n",
       "    .dataframe thead th {\n",
       "        text-align: right;\n",
       "    }\n",
       "</style>\n",
       "<table border=\"1\" class=\"dataframe\">\n",
       "  <thead>\n",
       "    <tr style=\"text-align: right;\">\n",
       "      <th></th>\n",
       "      <th>venue_Barabati Stadium</th>\n",
       "      <th>venue_Brabourne Stadium</th>\n",
       "      <th>venue_Buffalo Park</th>\n",
       "      <th>venue_De Beers Diamond Oval</th>\n",
       "      <th>venue_Dr DY Patil Sports Academy</th>\n",
       "      <th>venue_Dr. Y.S. Rajasekhara Reddy ACA-VDCA Cricket Stadium</th>\n",
       "      <th>venue_Dubai International Cricket Stadium</th>\n",
       "      <th>venue_Eden Gardens</th>\n",
       "      <th>venue_Feroz Shah Kotla</th>\n",
       "      <th>venue_Himachal Pradesh Cricket Association Stadium</th>\n",
       "      <th>...</th>\n",
       "      <th>bowling_team_Royal Challengers Bangalore</th>\n",
       "      <th>bowling_team_Sunrisers Hyderabad</th>\n",
       "      <th>inning</th>\n",
       "      <th>season</th>\n",
       "      <th>overs</th>\n",
       "      <th>runs_last5</th>\n",
       "      <th>wickets_last5</th>\n",
       "      <th>cum_runs</th>\n",
       "      <th>cum_wickets</th>\n",
       "      <th>total_runs</th>\n",
       "    </tr>\n",
       "  </thead>\n",
       "  <tbody>\n",
       "    <tr>\n",
       "      <th>0</th>\n",
       "      <td>0</td>\n",
       "      <td>0</td>\n",
       "      <td>0</td>\n",
       "      <td>0</td>\n",
       "      <td>0</td>\n",
       "      <td>0</td>\n",
       "      <td>0</td>\n",
       "      <td>0</td>\n",
       "      <td>0</td>\n",
       "      <td>0</td>\n",
       "      <td>...</td>\n",
       "      <td>1</td>\n",
       "      <td>0</td>\n",
       "      <td>1</td>\n",
       "      <td>2008</td>\n",
       "      <td>0.1</td>\n",
       "      <td>1</td>\n",
       "      <td>0</td>\n",
       "      <td>1</td>\n",
       "      <td>0</td>\n",
       "      <td>222</td>\n",
       "    </tr>\n",
       "    <tr>\n",
       "      <th>1</th>\n",
       "      <td>0</td>\n",
       "      <td>0</td>\n",
       "      <td>0</td>\n",
       "      <td>0</td>\n",
       "      <td>0</td>\n",
       "      <td>0</td>\n",
       "      <td>0</td>\n",
       "      <td>0</td>\n",
       "      <td>0</td>\n",
       "      <td>0</td>\n",
       "      <td>...</td>\n",
       "      <td>1</td>\n",
       "      <td>0</td>\n",
       "      <td>1</td>\n",
       "      <td>2008</td>\n",
       "      <td>0.2</td>\n",
       "      <td>1</td>\n",
       "      <td>0</td>\n",
       "      <td>1</td>\n",
       "      <td>0</td>\n",
       "      <td>222</td>\n",
       "    </tr>\n",
       "    <tr>\n",
       "      <th>2</th>\n",
       "      <td>0</td>\n",
       "      <td>0</td>\n",
       "      <td>0</td>\n",
       "      <td>0</td>\n",
       "      <td>0</td>\n",
       "      <td>0</td>\n",
       "      <td>0</td>\n",
       "      <td>0</td>\n",
       "      <td>0</td>\n",
       "      <td>0</td>\n",
       "      <td>...</td>\n",
       "      <td>1</td>\n",
       "      <td>0</td>\n",
       "      <td>1</td>\n",
       "      <td>2008</td>\n",
       "      <td>0.3</td>\n",
       "      <td>2</td>\n",
       "      <td>0</td>\n",
       "      <td>2</td>\n",
       "      <td>0</td>\n",
       "      <td>222</td>\n",
       "    </tr>\n",
       "    <tr>\n",
       "      <th>3</th>\n",
       "      <td>0</td>\n",
       "      <td>0</td>\n",
       "      <td>0</td>\n",
       "      <td>0</td>\n",
       "      <td>0</td>\n",
       "      <td>0</td>\n",
       "      <td>0</td>\n",
       "      <td>0</td>\n",
       "      <td>0</td>\n",
       "      <td>0</td>\n",
       "      <td>...</td>\n",
       "      <td>1</td>\n",
       "      <td>0</td>\n",
       "      <td>1</td>\n",
       "      <td>2008</td>\n",
       "      <td>0.4</td>\n",
       "      <td>2</td>\n",
       "      <td>0</td>\n",
       "      <td>2</td>\n",
       "      <td>0</td>\n",
       "      <td>222</td>\n",
       "    </tr>\n",
       "    <tr>\n",
       "      <th>4</th>\n",
       "      <td>0</td>\n",
       "      <td>0</td>\n",
       "      <td>0</td>\n",
       "      <td>0</td>\n",
       "      <td>0</td>\n",
       "      <td>0</td>\n",
       "      <td>0</td>\n",
       "      <td>0</td>\n",
       "      <td>0</td>\n",
       "      <td>0</td>\n",
       "      <td>...</td>\n",
       "      <td>1</td>\n",
       "      <td>0</td>\n",
       "      <td>1</td>\n",
       "      <td>2008</td>\n",
       "      <td>0.5</td>\n",
       "      <td>2</td>\n",
       "      <td>0</td>\n",
       "      <td>2</td>\n",
       "      <td>0</td>\n",
       "      <td>222</td>\n",
       "    </tr>\n",
       "    <tr>\n",
       "      <th>...</th>\n",
       "      <td>...</td>\n",
       "      <td>...</td>\n",
       "      <td>...</td>\n",
       "      <td>...</td>\n",
       "      <td>...</td>\n",
       "      <td>...</td>\n",
       "      <td>...</td>\n",
       "      <td>...</td>\n",
       "      <td>...</td>\n",
       "      <td>...</td>\n",
       "      <td>...</td>\n",
       "      <td>...</td>\n",
       "      <td>...</td>\n",
       "      <td>...</td>\n",
       "      <td>...</td>\n",
       "      <td>...</td>\n",
       "      <td>...</td>\n",
       "      <td>...</td>\n",
       "      <td>...</td>\n",
       "      <td>...</td>\n",
       "      <td>...</td>\n",
       "    </tr>\n",
       "    <tr>\n",
       "      <th>166148</th>\n",
       "      <td>0</td>\n",
       "      <td>0</td>\n",
       "      <td>0</td>\n",
       "      <td>0</td>\n",
       "      <td>0</td>\n",
       "      <td>0</td>\n",
       "      <td>1</td>\n",
       "      <td>0</td>\n",
       "      <td>0</td>\n",
       "      <td>0</td>\n",
       "      <td>...</td>\n",
       "      <td>0</td>\n",
       "      <td>0</td>\n",
       "      <td>2</td>\n",
       "      <td>2020</td>\n",
       "      <td>17.6</td>\n",
       "      <td>42</td>\n",
       "      <td>2</td>\n",
       "      <td>154</td>\n",
       "      <td>4</td>\n",
       "      <td>157</td>\n",
       "    </tr>\n",
       "    <tr>\n",
       "      <th>166149</th>\n",
       "      <td>0</td>\n",
       "      <td>0</td>\n",
       "      <td>0</td>\n",
       "      <td>0</td>\n",
       "      <td>0</td>\n",
       "      <td>0</td>\n",
       "      <td>1</td>\n",
       "      <td>0</td>\n",
       "      <td>0</td>\n",
       "      <td>0</td>\n",
       "      <td>...</td>\n",
       "      <td>0</td>\n",
       "      <td>0</td>\n",
       "      <td>2</td>\n",
       "      <td>2020</td>\n",
       "      <td>18.1</td>\n",
       "      <td>42</td>\n",
       "      <td>2</td>\n",
       "      <td>155</td>\n",
       "      <td>4</td>\n",
       "      <td>157</td>\n",
       "    </tr>\n",
       "    <tr>\n",
       "      <th>166150</th>\n",
       "      <td>0</td>\n",
       "      <td>0</td>\n",
       "      <td>0</td>\n",
       "      <td>0</td>\n",
       "      <td>0</td>\n",
       "      <td>0</td>\n",
       "      <td>1</td>\n",
       "      <td>0</td>\n",
       "      <td>0</td>\n",
       "      <td>0</td>\n",
       "      <td>...</td>\n",
       "      <td>0</td>\n",
       "      <td>0</td>\n",
       "      <td>2</td>\n",
       "      <td>2020</td>\n",
       "      <td>18.2</td>\n",
       "      <td>42</td>\n",
       "      <td>2</td>\n",
       "      <td>156</td>\n",
       "      <td>4</td>\n",
       "      <td>157</td>\n",
       "    </tr>\n",
       "    <tr>\n",
       "      <th>166151</th>\n",
       "      <td>0</td>\n",
       "      <td>0</td>\n",
       "      <td>0</td>\n",
       "      <td>0</td>\n",
       "      <td>0</td>\n",
       "      <td>0</td>\n",
       "      <td>1</td>\n",
       "      <td>0</td>\n",
       "      <td>0</td>\n",
       "      <td>0</td>\n",
       "      <td>...</td>\n",
       "      <td>0</td>\n",
       "      <td>0</td>\n",
       "      <td>2</td>\n",
       "      <td>2020</td>\n",
       "      <td>18.3</td>\n",
       "      <td>41</td>\n",
       "      <td>3</td>\n",
       "      <td>156</td>\n",
       "      <td>5</td>\n",
       "      <td>157</td>\n",
       "    </tr>\n",
       "    <tr>\n",
       "      <th>166152</th>\n",
       "      <td>0</td>\n",
       "      <td>0</td>\n",
       "      <td>0</td>\n",
       "      <td>0</td>\n",
       "      <td>0</td>\n",
       "      <td>0</td>\n",
       "      <td>1</td>\n",
       "      <td>0</td>\n",
       "      <td>0</td>\n",
       "      <td>0</td>\n",
       "      <td>...</td>\n",
       "      <td>0</td>\n",
       "      <td>0</td>\n",
       "      <td>2</td>\n",
       "      <td>2020</td>\n",
       "      <td>18.4</td>\n",
       "      <td>42</td>\n",
       "      <td>3</td>\n",
       "      <td>157</td>\n",
       "      <td>5</td>\n",
       "      <td>157</td>\n",
       "    </tr>\n",
       "  </tbody>\n",
       "</table>\n",
       "<p>166153 rows × 56 columns</p>\n",
       "</div>"
      ],
      "text/plain": [
       "        venue_Barabati Stadium  venue_Brabourne Stadium  venue_Buffalo Park  \\\n",
       "0                            0                        0                   0   \n",
       "1                            0                        0                   0   \n",
       "2                            0                        0                   0   \n",
       "3                            0                        0                   0   \n",
       "4                            0                        0                   0   \n",
       "...                        ...                      ...                 ...   \n",
       "166148                       0                        0                   0   \n",
       "166149                       0                        0                   0   \n",
       "166150                       0                        0                   0   \n",
       "166151                       0                        0                   0   \n",
       "166152                       0                        0                   0   \n",
       "\n",
       "        venue_De Beers Diamond Oval  venue_Dr DY Patil Sports Academy  \\\n",
       "0                                 0                                 0   \n",
       "1                                 0                                 0   \n",
       "2                                 0                                 0   \n",
       "3                                 0                                 0   \n",
       "4                                 0                                 0   \n",
       "...                             ...                               ...   \n",
       "166148                            0                                 0   \n",
       "166149                            0                                 0   \n",
       "166150                            0                                 0   \n",
       "166151                            0                                 0   \n",
       "166152                            0                                 0   \n",
       "\n",
       "        venue_Dr. Y.S. Rajasekhara Reddy ACA-VDCA Cricket Stadium  \\\n",
       "0                                                       0           \n",
       "1                                                       0           \n",
       "2                                                       0           \n",
       "3                                                       0           \n",
       "4                                                       0           \n",
       "...                                                   ...           \n",
       "166148                                                  0           \n",
       "166149                                                  0           \n",
       "166150                                                  0           \n",
       "166151                                                  0           \n",
       "166152                                                  0           \n",
       "\n",
       "        venue_Dubai International Cricket Stadium  venue_Eden Gardens  \\\n",
       "0                                               0                   0   \n",
       "1                                               0                   0   \n",
       "2                                               0                   0   \n",
       "3                                               0                   0   \n",
       "4                                               0                   0   \n",
       "...                                           ...                 ...   \n",
       "166148                                          1                   0   \n",
       "166149                                          1                   0   \n",
       "166150                                          1                   0   \n",
       "166151                                          1                   0   \n",
       "166152                                          1                   0   \n",
       "\n",
       "        venue_Feroz Shah Kotla  \\\n",
       "0                            0   \n",
       "1                            0   \n",
       "2                            0   \n",
       "3                            0   \n",
       "4                            0   \n",
       "...                        ...   \n",
       "166148                       0   \n",
       "166149                       0   \n",
       "166150                       0   \n",
       "166151                       0   \n",
       "166152                       0   \n",
       "\n",
       "        venue_Himachal Pradesh Cricket Association Stadium  ...  \\\n",
       "0                                                       0   ...   \n",
       "1                                                       0   ...   \n",
       "2                                                       0   ...   \n",
       "3                                                       0   ...   \n",
       "4                                                       0   ...   \n",
       "...                                                   ...   ...   \n",
       "166148                                                  0   ...   \n",
       "166149                                                  0   ...   \n",
       "166150                                                  0   ...   \n",
       "166151                                                  0   ...   \n",
       "166152                                                  0   ...   \n",
       "\n",
       "        bowling_team_Royal Challengers Bangalore  \\\n",
       "0                                              1   \n",
       "1                                              1   \n",
       "2                                              1   \n",
       "3                                              1   \n",
       "4                                              1   \n",
       "...                                          ...   \n",
       "166148                                         0   \n",
       "166149                                         0   \n",
       "166150                                         0   \n",
       "166151                                         0   \n",
       "166152                                         0   \n",
       "\n",
       "        bowling_team_Sunrisers Hyderabad  inning  season  overs  runs_last5  \\\n",
       "0                                      0       1    2008    0.1           1   \n",
       "1                                      0       1    2008    0.2           1   \n",
       "2                                      0       1    2008    0.3           2   \n",
       "3                                      0       1    2008    0.4           2   \n",
       "4                                      0       1    2008    0.5           2   \n",
       "...                                  ...     ...     ...    ...         ...   \n",
       "166148                                 0       2    2020   17.6          42   \n",
       "166149                                 0       2    2020   18.1          42   \n",
       "166150                                 0       2    2020   18.2          42   \n",
       "166151                                 0       2    2020   18.3          41   \n",
       "166152                                 0       2    2020   18.4          42   \n",
       "\n",
       "        wickets_last5  cum_runs  cum_wickets  total_runs  \n",
       "0                   0         1            0         222  \n",
       "1                   0         1            0         222  \n",
       "2                   0         2            0         222  \n",
       "3                   0         2            0         222  \n",
       "4                   0         2            0         222  \n",
       "...               ...       ...          ...         ...  \n",
       "166148              2       154            4         157  \n",
       "166149              2       155            4         157  \n",
       "166150              2       156            4         157  \n",
       "166151              3       156            5         157  \n",
       "166152              3       157            5         157  \n",
       "\n",
       "[166153 rows x 56 columns]"
      ]
     },
     "execution_count": 2,
     "metadata": {},
     "output_type": "execute_result"
    }
   ],
   "source": [
    "dataset = pd.read_csv('C:\\\\Users\\\\SHADOW\\\\Technical Seminar\\\\IPL\\\\DATASETS\\\\encoded.csv')\n",
    "dataset"
   ]
  },
  {
   "cell_type": "markdown",
   "id": "651de2c5",
   "metadata": {},
   "source": [
    "_Consider overs data from 5 onwards for better prediction_"
   ]
  },
  {
   "cell_type": "code",
   "execution_count": 3,
   "id": "b257e6cd",
   "metadata": {},
   "outputs": [],
   "source": [
    "dataset = dataset[dataset['overs'] >= 5]"
   ]
  },
  {
   "cell_type": "code",
   "execution_count": 4,
   "id": "b632c01e",
   "metadata": {},
   "outputs": [
    {
     "data": {
      "text/html": [
       "<div>\n",
       "<style scoped>\n",
       "    .dataframe tbody tr th:only-of-type {\n",
       "        vertical-align: middle;\n",
       "    }\n",
       "\n",
       "    .dataframe tbody tr th {\n",
       "        vertical-align: top;\n",
       "    }\n",
       "\n",
       "    .dataframe thead th {\n",
       "        text-align: right;\n",
       "    }\n",
       "</style>\n",
       "<table border=\"1\" class=\"dataframe\">\n",
       "  <thead>\n",
       "    <tr style=\"text-align: right;\">\n",
       "      <th></th>\n",
       "      <th>venue_Barabati Stadium</th>\n",
       "      <th>venue_Brabourne Stadium</th>\n",
       "      <th>venue_Buffalo Park</th>\n",
       "      <th>venue_De Beers Diamond Oval</th>\n",
       "      <th>venue_Dr DY Patil Sports Academy</th>\n",
       "      <th>venue_Dr. Y.S. Rajasekhara Reddy ACA-VDCA Cricket Stadium</th>\n",
       "      <th>venue_Dubai International Cricket Stadium</th>\n",
       "      <th>venue_Eden Gardens</th>\n",
       "      <th>venue_Feroz Shah Kotla</th>\n",
       "      <th>venue_Himachal Pradesh Cricket Association Stadium</th>\n",
       "      <th>...</th>\n",
       "      <th>bowling_team_Royal Challengers Bangalore</th>\n",
       "      <th>bowling_team_Sunrisers Hyderabad</th>\n",
       "      <th>inning</th>\n",
       "      <th>season</th>\n",
       "      <th>overs</th>\n",
       "      <th>runs_last5</th>\n",
       "      <th>wickets_last5</th>\n",
       "      <th>cum_runs</th>\n",
       "      <th>cum_wickets</th>\n",
       "      <th>total_runs</th>\n",
       "    </tr>\n",
       "  </thead>\n",
       "  <tbody>\n",
       "    <tr>\n",
       "      <th>32</th>\n",
       "      <td>0</td>\n",
       "      <td>0</td>\n",
       "      <td>0</td>\n",
       "      <td>0</td>\n",
       "      <td>0</td>\n",
       "      <td>0</td>\n",
       "      <td>0</td>\n",
       "      <td>0</td>\n",
       "      <td>0</td>\n",
       "      <td>0</td>\n",
       "      <td>...</td>\n",
       "      <td>1</td>\n",
       "      <td>0</td>\n",
       "      <td>1</td>\n",
       "      <td>2008</td>\n",
       "      <td>5.1</td>\n",
       "      <td>59</td>\n",
       "      <td>0</td>\n",
       "      <td>61</td>\n",
       "      <td>0</td>\n",
       "      <td>222</td>\n",
       "    </tr>\n",
       "    <tr>\n",
       "      <th>33</th>\n",
       "      <td>0</td>\n",
       "      <td>0</td>\n",
       "      <td>0</td>\n",
       "      <td>0</td>\n",
       "      <td>0</td>\n",
       "      <td>0</td>\n",
       "      <td>0</td>\n",
       "      <td>0</td>\n",
       "      <td>0</td>\n",
       "      <td>0</td>\n",
       "      <td>...</td>\n",
       "      <td>1</td>\n",
       "      <td>0</td>\n",
       "      <td>1</td>\n",
       "      <td>2008</td>\n",
       "      <td>5.2</td>\n",
       "      <td>59</td>\n",
       "      <td>1</td>\n",
       "      <td>61</td>\n",
       "      <td>1</td>\n",
       "      <td>222</td>\n",
       "    </tr>\n",
       "    <tr>\n",
       "      <th>34</th>\n",
       "      <td>0</td>\n",
       "      <td>0</td>\n",
       "      <td>0</td>\n",
       "      <td>0</td>\n",
       "      <td>0</td>\n",
       "      <td>0</td>\n",
       "      <td>0</td>\n",
       "      <td>0</td>\n",
       "      <td>0</td>\n",
       "      <td>0</td>\n",
       "      <td>...</td>\n",
       "      <td>1</td>\n",
       "      <td>0</td>\n",
       "      <td>1</td>\n",
       "      <td>2008</td>\n",
       "      <td>5.3</td>\n",
       "      <td>59</td>\n",
       "      <td>1</td>\n",
       "      <td>61</td>\n",
       "      <td>1</td>\n",
       "      <td>222</td>\n",
       "    </tr>\n",
       "    <tr>\n",
       "      <th>35</th>\n",
       "      <td>0</td>\n",
       "      <td>0</td>\n",
       "      <td>0</td>\n",
       "      <td>0</td>\n",
       "      <td>0</td>\n",
       "      <td>0</td>\n",
       "      <td>0</td>\n",
       "      <td>0</td>\n",
       "      <td>0</td>\n",
       "      <td>0</td>\n",
       "      <td>...</td>\n",
       "      <td>1</td>\n",
       "      <td>0</td>\n",
       "      <td>1</td>\n",
       "      <td>2008</td>\n",
       "      <td>5.4</td>\n",
       "      <td>59</td>\n",
       "      <td>1</td>\n",
       "      <td>61</td>\n",
       "      <td>1</td>\n",
       "      <td>222</td>\n",
       "    </tr>\n",
       "    <tr>\n",
       "      <th>36</th>\n",
       "      <td>0</td>\n",
       "      <td>0</td>\n",
       "      <td>0</td>\n",
       "      <td>0</td>\n",
       "      <td>0</td>\n",
       "      <td>0</td>\n",
       "      <td>0</td>\n",
       "      <td>0</td>\n",
       "      <td>0</td>\n",
       "      <td>0</td>\n",
       "      <td>...</td>\n",
       "      <td>1</td>\n",
       "      <td>0</td>\n",
       "      <td>1</td>\n",
       "      <td>2008</td>\n",
       "      <td>5.5</td>\n",
       "      <td>58</td>\n",
       "      <td>1</td>\n",
       "      <td>61</td>\n",
       "      <td>1</td>\n",
       "      <td>222</td>\n",
       "    </tr>\n",
       "    <tr>\n",
       "      <th>...</th>\n",
       "      <td>...</td>\n",
       "      <td>...</td>\n",
       "      <td>...</td>\n",
       "      <td>...</td>\n",
       "      <td>...</td>\n",
       "      <td>...</td>\n",
       "      <td>...</td>\n",
       "      <td>...</td>\n",
       "      <td>...</td>\n",
       "      <td>...</td>\n",
       "      <td>...</td>\n",
       "      <td>...</td>\n",
       "      <td>...</td>\n",
       "      <td>...</td>\n",
       "      <td>...</td>\n",
       "      <td>...</td>\n",
       "      <td>...</td>\n",
       "      <td>...</td>\n",
       "      <td>...</td>\n",
       "      <td>...</td>\n",
       "      <td>...</td>\n",
       "    </tr>\n",
       "    <tr>\n",
       "      <th>166148</th>\n",
       "      <td>0</td>\n",
       "      <td>0</td>\n",
       "      <td>0</td>\n",
       "      <td>0</td>\n",
       "      <td>0</td>\n",
       "      <td>0</td>\n",
       "      <td>1</td>\n",
       "      <td>0</td>\n",
       "      <td>0</td>\n",
       "      <td>0</td>\n",
       "      <td>...</td>\n",
       "      <td>0</td>\n",
       "      <td>0</td>\n",
       "      <td>2</td>\n",
       "      <td>2020</td>\n",
       "      <td>17.6</td>\n",
       "      <td>42</td>\n",
       "      <td>2</td>\n",
       "      <td>154</td>\n",
       "      <td>4</td>\n",
       "      <td>157</td>\n",
       "    </tr>\n",
       "    <tr>\n",
       "      <th>166149</th>\n",
       "      <td>0</td>\n",
       "      <td>0</td>\n",
       "      <td>0</td>\n",
       "      <td>0</td>\n",
       "      <td>0</td>\n",
       "      <td>0</td>\n",
       "      <td>1</td>\n",
       "      <td>0</td>\n",
       "      <td>0</td>\n",
       "      <td>0</td>\n",
       "      <td>...</td>\n",
       "      <td>0</td>\n",
       "      <td>0</td>\n",
       "      <td>2</td>\n",
       "      <td>2020</td>\n",
       "      <td>18.1</td>\n",
       "      <td>42</td>\n",
       "      <td>2</td>\n",
       "      <td>155</td>\n",
       "      <td>4</td>\n",
       "      <td>157</td>\n",
       "    </tr>\n",
       "    <tr>\n",
       "      <th>166150</th>\n",
       "      <td>0</td>\n",
       "      <td>0</td>\n",
       "      <td>0</td>\n",
       "      <td>0</td>\n",
       "      <td>0</td>\n",
       "      <td>0</td>\n",
       "      <td>1</td>\n",
       "      <td>0</td>\n",
       "      <td>0</td>\n",
       "      <td>0</td>\n",
       "      <td>...</td>\n",
       "      <td>0</td>\n",
       "      <td>0</td>\n",
       "      <td>2</td>\n",
       "      <td>2020</td>\n",
       "      <td>18.2</td>\n",
       "      <td>42</td>\n",
       "      <td>2</td>\n",
       "      <td>156</td>\n",
       "      <td>4</td>\n",
       "      <td>157</td>\n",
       "    </tr>\n",
       "    <tr>\n",
       "      <th>166151</th>\n",
       "      <td>0</td>\n",
       "      <td>0</td>\n",
       "      <td>0</td>\n",
       "      <td>0</td>\n",
       "      <td>0</td>\n",
       "      <td>0</td>\n",
       "      <td>1</td>\n",
       "      <td>0</td>\n",
       "      <td>0</td>\n",
       "      <td>0</td>\n",
       "      <td>...</td>\n",
       "      <td>0</td>\n",
       "      <td>0</td>\n",
       "      <td>2</td>\n",
       "      <td>2020</td>\n",
       "      <td>18.3</td>\n",
       "      <td>41</td>\n",
       "      <td>3</td>\n",
       "      <td>156</td>\n",
       "      <td>5</td>\n",
       "      <td>157</td>\n",
       "    </tr>\n",
       "    <tr>\n",
       "      <th>166152</th>\n",
       "      <td>0</td>\n",
       "      <td>0</td>\n",
       "      <td>0</td>\n",
       "      <td>0</td>\n",
       "      <td>0</td>\n",
       "      <td>0</td>\n",
       "      <td>1</td>\n",
       "      <td>0</td>\n",
       "      <td>0</td>\n",
       "      <td>0</td>\n",
       "      <td>...</td>\n",
       "      <td>0</td>\n",
       "      <td>0</td>\n",
       "      <td>2</td>\n",
       "      <td>2020</td>\n",
       "      <td>18.4</td>\n",
       "      <td>42</td>\n",
       "      <td>3</td>\n",
       "      <td>157</td>\n",
       "      <td>5</td>\n",
       "      <td>157</td>\n",
       "    </tr>\n",
       "  </tbody>\n",
       "</table>\n",
       "<p>122542 rows × 56 columns</p>\n",
       "</div>"
      ],
      "text/plain": [
       "        venue_Barabati Stadium  venue_Brabourne Stadium  venue_Buffalo Park  \\\n",
       "32                           0                        0                   0   \n",
       "33                           0                        0                   0   \n",
       "34                           0                        0                   0   \n",
       "35                           0                        0                   0   \n",
       "36                           0                        0                   0   \n",
       "...                        ...                      ...                 ...   \n",
       "166148                       0                        0                   0   \n",
       "166149                       0                        0                   0   \n",
       "166150                       0                        0                   0   \n",
       "166151                       0                        0                   0   \n",
       "166152                       0                        0                   0   \n",
       "\n",
       "        venue_De Beers Diamond Oval  venue_Dr DY Patil Sports Academy  \\\n",
       "32                                0                                 0   \n",
       "33                                0                                 0   \n",
       "34                                0                                 0   \n",
       "35                                0                                 0   \n",
       "36                                0                                 0   \n",
       "...                             ...                               ...   \n",
       "166148                            0                                 0   \n",
       "166149                            0                                 0   \n",
       "166150                            0                                 0   \n",
       "166151                            0                                 0   \n",
       "166152                            0                                 0   \n",
       "\n",
       "        venue_Dr. Y.S. Rajasekhara Reddy ACA-VDCA Cricket Stadium  \\\n",
       "32                                                      0           \n",
       "33                                                      0           \n",
       "34                                                      0           \n",
       "35                                                      0           \n",
       "36                                                      0           \n",
       "...                                                   ...           \n",
       "166148                                                  0           \n",
       "166149                                                  0           \n",
       "166150                                                  0           \n",
       "166151                                                  0           \n",
       "166152                                                  0           \n",
       "\n",
       "        venue_Dubai International Cricket Stadium  venue_Eden Gardens  \\\n",
       "32                                              0                   0   \n",
       "33                                              0                   0   \n",
       "34                                              0                   0   \n",
       "35                                              0                   0   \n",
       "36                                              0                   0   \n",
       "...                                           ...                 ...   \n",
       "166148                                          1                   0   \n",
       "166149                                          1                   0   \n",
       "166150                                          1                   0   \n",
       "166151                                          1                   0   \n",
       "166152                                          1                   0   \n",
       "\n",
       "        venue_Feroz Shah Kotla  \\\n",
       "32                           0   \n",
       "33                           0   \n",
       "34                           0   \n",
       "35                           0   \n",
       "36                           0   \n",
       "...                        ...   \n",
       "166148                       0   \n",
       "166149                       0   \n",
       "166150                       0   \n",
       "166151                       0   \n",
       "166152                       0   \n",
       "\n",
       "        venue_Himachal Pradesh Cricket Association Stadium  ...  \\\n",
       "32                                                      0   ...   \n",
       "33                                                      0   ...   \n",
       "34                                                      0   ...   \n",
       "35                                                      0   ...   \n",
       "36                                                      0   ...   \n",
       "...                                                   ...   ...   \n",
       "166148                                                  0   ...   \n",
       "166149                                                  0   ...   \n",
       "166150                                                  0   ...   \n",
       "166151                                                  0   ...   \n",
       "166152                                                  0   ...   \n",
       "\n",
       "        bowling_team_Royal Challengers Bangalore  \\\n",
       "32                                             1   \n",
       "33                                             1   \n",
       "34                                             1   \n",
       "35                                             1   \n",
       "36                                             1   \n",
       "...                                          ...   \n",
       "166148                                         0   \n",
       "166149                                         0   \n",
       "166150                                         0   \n",
       "166151                                         0   \n",
       "166152                                         0   \n",
       "\n",
       "        bowling_team_Sunrisers Hyderabad  inning  season  overs  runs_last5  \\\n",
       "32                                     0       1    2008    5.1          59   \n",
       "33                                     0       1    2008    5.2          59   \n",
       "34                                     0       1    2008    5.3          59   \n",
       "35                                     0       1    2008    5.4          59   \n",
       "36                                     0       1    2008    5.5          58   \n",
       "...                                  ...     ...     ...    ...         ...   \n",
       "166148                                 0       2    2020   17.6          42   \n",
       "166149                                 0       2    2020   18.1          42   \n",
       "166150                                 0       2    2020   18.2          42   \n",
       "166151                                 0       2    2020   18.3          41   \n",
       "166152                                 0       2    2020   18.4          42   \n",
       "\n",
       "        wickets_last5  cum_runs  cum_wickets  total_runs  \n",
       "32                  0        61            0         222  \n",
       "33                  1        61            1         222  \n",
       "34                  1        61            1         222  \n",
       "35                  1        61            1         222  \n",
       "36                  1        61            1         222  \n",
       "...               ...       ...          ...         ...  \n",
       "166148              2       154            4         157  \n",
       "166149              2       155            4         157  \n",
       "166150              2       156            4         157  \n",
       "166151              3       156            5         157  \n",
       "166152              3       157            5         157  \n",
       "\n",
       "[122542 rows x 56 columns]"
      ]
     },
     "execution_count": 4,
     "metadata": {},
     "output_type": "execute_result"
    }
   ],
   "source": [
    "dataset"
   ]
  },
  {
   "cell_type": "markdown",
   "id": "da8e265f",
   "metadata": {},
   "source": [
    "### Data Split\n",
    "\n",
    "Split the data into training and testing sets.\n",
    "_Since, this is a time series data we cant't use train_test_split()._"
   ]
  },
  {
   "cell_type": "markdown",
   "id": "e920f53d",
   "metadata": {},
   "source": [
    "Features-"
   ]
  },
  {
   "cell_type": "code",
   "execution_count": 5,
   "id": "5d5b1e78",
   "metadata": {},
   "outputs": [],
   "source": [
    "X_train = dataset.drop(labels = 'total_runs', axis=1)[dataset['season'] <= 2017]\n",
    "X_test = dataset.drop(labels = 'total_runs', axis=1)[dataset['season'] >= 2018]"
   ]
  },
  {
   "cell_type": "markdown",
   "id": "19d52a3c",
   "metadata": {},
   "source": [
    "Predictions-"
   ]
  },
  {
   "cell_type": "code",
   "execution_count": 6,
   "id": "29bb64a2",
   "metadata": {},
   "outputs": [],
   "source": [
    "y_train = dataset[dataset['season'] <= 2017]['total_runs'].values\n",
    "y_test = dataset[dataset['season'] >= 2018]['total_runs'].values"
   ]
  },
  {
   "cell_type": "markdown",
   "id": "99223206",
   "metadata": {},
   "source": [
    "Drop season column which is not useful for prediction"
   ]
  },
  {
   "cell_type": "code",
   "execution_count": 7,
   "id": "51b2c43c",
   "metadata": {},
   "outputs": [],
   "source": [
    "X_train.drop(columns = 'season', inplace=True)\n",
    "X_test.drop(columns = 'season', inplace=True)"
   ]
  },
  {
   "cell_type": "markdown",
   "id": "01e0e263",
   "metadata": {},
   "source": [
    "## Functions:"
   ]
  },
  {
   "cell_type": "code",
   "execution_count": 8,
   "id": "859261f6",
   "metadata": {},
   "outputs": [],
   "source": [
    "def train_predict_values(object):\n",
    "    y_pred = object.predict(X_train)\n",
    "    np.set_printoptions(precision=0)\n",
    "    print(np.concatenate((y_pred.reshape(len(y_pred),1), y_train.reshape(len(y_train),1)),1))\n",
    "    print(' ')\n",
    "    # print('CV: ', cross_val_score(estimator = object, X=X_train, y=y_train, scoring = 'neg_mean_squared_error', cv=5).mean())\n",
    "    print('RMSE: ', np.sqrt(metrics.mean_squared_error(y_pred,y_train)))\n",
    "    print('R2 Score: ', object.score(X_train,y_train))\n",
    "    sns.distplot(y_pred.reshape(len(y_pred),1)), y_train.reshape(len(y_train),1)"
   ]
  },
  {
   "cell_type": "code",
   "execution_count": 9,
   "id": "d7672bf0",
   "metadata": {},
   "outputs": [],
   "source": [
    "def test_predict_values(object):\n",
    "    y_pred = object.predict(X_test)\n",
    "    np.set_printoptions(precision=0)\n",
    "    print(np.concatenate((y_pred.reshape(len(y_pred),1), y_test.reshape(len(y_test),1)),1))\n",
    "    RMSE = np.sqrt(metrics.mean_squared_error(y_pred,y_test))\n",
    "    R2_score = object.score(X_test,y_test)\n",
    "    print(' ')\n",
    "    print('RMSE: ', RMSE)\n",
    "    print('R2_score: ', R2_score)\n",
    "    sns.distplot(y_pred.reshape(len(y_pred),1)), y_test.reshape(len(y_test),1)"
   ]
  },
  {
   "cell_type": "code",
   "execution_count": 10,
   "id": "dad38e12",
   "metadata": {},
   "outputs": [],
   "source": [
    "def example(object):\n",
    "    temp_array = [0, 0, 0, 0, 0, 0, 0, 0, 0, 0, 0, 0, 0, 1, 0, 0, 0, 0, 0, 0, 0, 0, 0, 0, 0, 0, 0, 0, 0, 0, 0, 0, 1, 0, 0, 0, 0, 0, 0, 0, 0, 0, 0, 0, 1, 0, 0, 0, 1, 10.5, 40, 1, 60, 3]\n",
    "    data = np.array([temp_array])\n",
    "    my_prediction = int(object.predict(data)[0])\n",
    "    print('Score: ', my_prediction)"
   ]
  },
  {
   "cell_type": "markdown",
   "id": "74621a94",
   "metadata": {},
   "source": [
    "# ML Models"
   ]
  },
  {
   "cell_type": "markdown",
   "id": "48ffe6d8",
   "metadata": {},
   "source": [
    "### 1. Multiple Linear Regression"
   ]
  },
  {
   "cell_type": "code",
   "execution_count": 11,
   "id": "ce732b37",
   "metadata": {},
   "outputs": [
    {
     "data": {
      "text/plain": [
       "LinearRegression()"
      ]
     },
     "execution_count": 11,
     "metadata": {},
     "output_type": "execute_result"
    }
   ],
   "source": [
    "from sklearn.linear_model import LinearRegression\n",
    "linear_regressor = LinearRegression()\n",
    "linear_regressor.fit(X_train, y_train)"
   ]
  },
  {
   "cell_type": "code",
   "execution_count": 12,
   "id": "e4f4f188",
   "metadata": {},
   "outputs": [
    {
     "name": "stdout",
     "output_type": "stream",
     "text": [
      "[[185. 222.]\n",
      " [181. 222.]\n",
      " [180. 222.]\n",
      " ...\n",
      " [149. 111.]\n",
      " [148. 111.]\n",
      " [152. 111.]]\n",
      " \n",
      "RMSE:  18.929716824055966\n",
      "R2 Score:  0.5683495782910575\n"
     ]
    },
    {
     "data": {
      "image/png": "[encoded data removed]",
      "text/plain": [
       "<Figure size 432x288 with 1 Axes>"
      ]
     },
     "metadata": {
      "needs_background": "light"
     },
     "output_type": "display_data"
    }
   ],
   "source": [
    "train_predict_values(linear_regressor)"
   ]
  },
  {
   "cell_type": "code",
   "execution_count": 13,
   "id": "2e7e71bd",
   "metadata": {},
   "outputs": [
    {
     "name": "stdout",
     "output_type": "stream",
     "text": [
      "[[151. 165.]\n",
      " [151. 165.]\n",
      " [154. 165.]\n",
      " ...\n",
      " [166. 157.]\n",
      " [162. 157.]\n",
      " [162. 157.]]\n",
      " \n",
      "RMSE:  20.48709386755554\n",
      "R2_score:  0.4734224189671806\n"
     ]
    },
    {
     "data": {
      "image/png": "[encoded data removed]",
      "text/plain": [
       "<Figure size 432x288 with 1 Axes>"
      ]
     },
     "metadata": {
      "needs_background": "light"
     },
     "output_type": "display_data"
    }
   ],
   "source": [
    "test_predict_values(linear_regressor)"
   ]
  },
  {
   "cell_type": "code",
   "execution_count": 14,
   "id": "7b1ad2da",
   "metadata": {},
   "outputs": [
    {
     "name": "stdout",
     "output_type": "stream",
     "text": [
      "Score:  144\n"
     ]
    }
   ],
   "source": [
    "example(linear_regressor)"
   ]
  },
  {
   "cell_type": "markdown",
   "id": "4fb48a05",
   "metadata": {},
   "source": [
    "### 2. Decision Tree Regression"
   ]
  },
  {
   "cell_type": "code",
   "execution_count": 15,
   "id": "1261fe83",
   "metadata": {},
   "outputs": [
    {
     "data": {
      "text/plain": [
       "DecisionTreeRegressor(random_state=0)"
      ]
     },
     "execution_count": 15,
     "metadata": {},
     "output_type": "execute_result"
    }
   ],
   "source": [
    "from sklearn.tree import DecisionTreeRegressor\n",
    "dt_regressor = DecisionTreeRegressor(random_state = 0)\n",
    "dt_regressor.fit(X_train, y_train)"
   ]
  },
  {
   "cell_type": "code",
   "execution_count": 16,
   "id": "157dbdee",
   "metadata": {},
   "outputs": [
    {
     "name": "stdout",
     "output_type": "stream",
     "text": [
      "[[222. 222.]\n",
      " [222. 222.]\n",
      " [222. 222.]\n",
      " ...\n",
      " [111. 111.]\n",
      " [111. 111.]\n",
      " [111. 111.]]\n",
      " \n",
      "RMSE:  0.12542222287349417\n",
      "R2 Score:  0.9999810507108783\n"
     ]
    },
    {
     "data": {
      "image/png": "[encoded data removed]",
      "text/plain": [
       "<Figure size 432x288 with 1 Axes>"
      ]
     },
     "metadata": {
      "needs_background": "light"
     },
     "output_type": "display_data"
    }
   ],
   "source": [
    "train_predict_values(dt_regressor)"
   ]
  },
  {
   "cell_type": "code",
   "execution_count": 17,
   "id": "02c78000",
   "metadata": {},
   "outputs": [
    {
     "name": "stdout",
     "output_type": "stream",
     "text": [
      "[[164. 165.]\n",
      " [164. 165.]\n",
      " [140. 165.]\n",
      " ...\n",
      " [161. 157.]\n",
      " [161. 157.]\n",
      " [174. 157.]]\n",
      " \n",
      "RMSE:  27.61071934731001\n",
      "R2_score:  0.043561403152656\n"
     ]
    },
    {
     "data": {
      "image/png": "[encoded data removed]",
      "text/plain": [
       "<Figure size 432x288 with 1 Axes>"
      ]
     },
     "metadata": {
      "needs_background": "light"
     },
     "output_type": "display_data"
    }
   ],
   "source": [
    "test_predict_values(dt_regressor)"
   ]
  },
  {
   "cell_type": "code",
   "execution_count": 18,
   "id": "a45596c2",
   "metadata": {},
   "outputs": [
    {
     "name": "stdout",
     "output_type": "stream",
     "text": [
      "Score:  187\n"
     ]
    }
   ],
   "source": [
    "example(dt_regressor)"
   ]
  },
  {
   "cell_type": "markdown",
   "id": "e76c4ae2",
   "metadata": {},
   "source": [
    "### 3. Random Forest Regression"
   ]
  },
  {
   "cell_type": "code",
   "execution_count": 19,
   "id": "d2b8dc0c",
   "metadata": {},
   "outputs": [
    {
     "data": {
      "text/plain": [
       "RandomForestRegressor(n_estimators=10, random_state=0)"
      ]
     },
     "execution_count": 19,
     "metadata": {},
     "output_type": "execute_result"
    }
   ],
   "source": [
    "from sklearn.ensemble import RandomForestRegressor\n",
    "rf_regressor = RandomForestRegressor(n_estimators = 10, random_state = 0)\n",
    "rf_regressor.fit(X_train, y_train)"
   ]
  },
  {
   "cell_type": "code",
   "execution_count": 20,
   "id": "531030b1",
   "metadata": {},
   "outputs": [
    {
     "name": "stdout",
     "output_type": "stream",
     "text": [
      "[[223. 222.]\n",
      " [222. 222.]\n",
      " [222. 222.]\n",
      " ...\n",
      " [116. 111.]\n",
      " [111. 111.]\n",
      " [137. 111.]]\n",
      " \n",
      "RMSE:  2.970119935863313\n",
      "R2 Score:  0.9893734593299246\n"
     ]
    },
    {
     "data": {
      "image/png": "[encoded data removed]",
      "text/plain": [
       "<Figure size 432x288 with 1 Axes>"
      ]
     },
     "metadata": {
      "needs_background": "light"
     },
     "output_type": "display_data"
    }
   ],
   "source": [
    "train_predict_values(rf_regressor)"
   ]
  },
  {
   "cell_type": "code",
   "execution_count": 21,
   "id": "603ca7ed",
   "metadata": {},
   "outputs": [
    {
     "name": "stdout",
     "output_type": "stream",
     "text": [
      "[[156. 165.]\n",
      " [156. 165.]\n",
      " [148. 165.]\n",
      " ...\n",
      " [170. 157.]\n",
      " [169. 157.]\n",
      " [167. 157.]]\n",
      " \n",
      "RMSE:  21.920538202426947\n",
      "R2_score:  0.39715720264746723\n"
     ]
    },
    {
     "data": {
      "image/png": "[encoded data removed]",
      "text/plain": [
       "<Figure size 432x288 with 1 Axes>"
      ]
     },
     "metadata": {
      "needs_background": "light"
     },
     "output_type": "display_data"
    }
   ],
   "source": [
    "test_predict_values(rf_regressor)"
   ]
  },
  {
   "cell_type": "code",
   "execution_count": 22,
   "id": "54995066",
   "metadata": {},
   "outputs": [
    {
     "name": "stdout",
     "output_type": "stream",
     "text": [
      "Score:  163\n"
     ]
    }
   ],
   "source": [
    "example(rf_regressor)"
   ]
  },
  {
   "cell_type": "markdown",
   "id": "8b2ccbb4",
   "metadata": {},
   "source": [
    "### 4. Ridge Regression"
   ]
  },
  {
   "cell_type": "code",
   "execution_count": 23,
   "id": "8c31bf12",
   "metadata": {},
   "outputs": [],
   "source": [
    "from sklearn.linear_model import Ridge\n",
    "from sklearn.model_selection import RandomizedSearchCV"
   ]
  },
  {
   "cell_type": "code",
   "execution_count": 24,
   "id": "f33faddd",
   "metadata": {},
   "outputs": [
    {
     "data": {
      "text/plain": [
       "RandomizedSearchCV(estimator=Ridge(),\n",
       "                   param_distributions={'alpha': [1e-15, 1e-10, 1e-08, 0.001,\n",
       "                                                  0.01, 1, 10, 20, 30, 30,\n",
       "                                                  50]})"
      ]
     },
     "execution_count": 24,
     "metadata": {},
     "output_type": "execute_result"
    }
   ],
   "source": [
    "ridge = Ridge()\n",
    "parameters = {'alpha' :[1e-15, 1e-10, 1e-8, 1e-3, 1e-2, 1, 10, 20, 30, 30, 50]}\n",
    "ridge_regressor = RandomizedSearchCV(ridge, parameters)\n",
    "ridge_regressor.fit(X_train, y_train)"
   ]
  },
  {
   "cell_type": "code",
   "execution_count": 25,
   "id": "a94e5470",
   "metadata": {},
   "outputs": [
    {
     "name": "stdout",
     "output_type": "stream",
     "text": [
      "{'alpha': 50}\n"
     ]
    }
   ],
   "source": [
    "print(ridge_regressor.best_params_)"
   ]
  },
  {
   "cell_type": "code",
   "execution_count": 26,
   "id": "bac87fcf",
   "metadata": {},
   "outputs": [
    {
     "name": "stdout",
     "output_type": "stream",
     "text": [
      "[[185. 222.]\n",
      " [181. 222.]\n",
      " [180. 222.]\n",
      " ...\n",
      " [149. 111.]\n",
      " [149. 111.]\n",
      " [152. 111.]]\n",
      " \n",
      "RMSE:  18.92963181022956\n",
      "R2 Score:  0.5683534553877894\n"
     ]
    },
    {
     "data": {
      "image/png": "[encoded data removed]",
      "text/plain": [
       "<Figure size 432x288 with 1 Axes>"
      ]
     },
     "metadata": {
      "needs_background": "light"
     },
     "output_type": "display_data"
    }
   ],
   "source": [
    "train_predict_values(ridge_regressor)"
   ]
  },
  {
   "cell_type": "code",
   "execution_count": 27,
   "id": "974f2637",
   "metadata": {},
   "outputs": [
    {
     "name": "stdout",
     "output_type": "stream",
     "text": [
      "[[151. 165.]\n",
      " [151. 165.]\n",
      " [154. 165.]\n",
      " ...\n",
      " [166. 157.]\n",
      " [162. 157.]\n",
      " [162. 157.]]\n",
      " \n",
      "RMSE:  20.489327687816708\n",
      "R2_score:  0.47330758142064466\n"
     ]
    },
    {
     "data": {
      "image/png": "[encoded data removed]",
      "text/plain": [
       "<Figure size 432x288 with 1 Axes>"
      ]
     },
     "metadata": {
      "needs_background": "light"
     },
     "output_type": "display_data"
    }
   ],
   "source": [
    "test_predict_values(ridge_regressor)"
   ]
  },
  {
   "cell_type": "code",
   "execution_count": 28,
   "id": "df8488c4",
   "metadata": {},
   "outputs": [
    {
     "name": "stdout",
     "output_type": "stream",
     "text": [
      "Score:  144\n"
     ]
    }
   ],
   "source": [
    "example(ridge_regressor)"
   ]
  },
  {
   "cell_type": "markdown",
   "id": "42023b08",
   "metadata": {},
   "source": [
    "### 5. Lasso Regression"
   ]
  },
  {
   "cell_type": "code",
   "execution_count": 29,
   "id": "370ba757",
   "metadata": {},
   "outputs": [],
   "source": [
    "from sklearn.linear_model import Lasso\n",
    "from sklearn.model_selection import RandomizedSearchCV"
   ]
  },
  {
   "cell_type": "code",
   "execution_count": 30,
   "id": "e1cd94c6",
   "metadata": {},
   "outputs": [
    {
     "data": {
      "text/plain": [
       "RandomizedSearchCV(estimator=Lasso(),\n",
       "                   param_distributions={'alpha': [1e-15, 1e-10, 1e-08, 0.001,\n",
       "                                                  0.01, 1, 10, 20, 30, 30,\n",
       "                                                  50]})"
      ]
     },
     "execution_count": 30,
     "metadata": {},
     "output_type": "execute_result"
    }
   ],
   "source": [
    "lasso = Lasso()\n",
    "parameters = {'alpha' :[1e-15, 1e-10, 1e-8, 1e-3, 1e-2, 1, 10, 20, 30, 30, 50]}\n",
    "lasso_regressor = RandomizedSearchCV(lasso, parameters)\n",
    "lasso_regressor.fit(X_train, y_train)"
   ]
  },
  {
   "cell_type": "code",
   "execution_count": 31,
   "id": "076c7b8b",
   "metadata": {},
   "outputs": [
    {
     "name": "stdout",
     "output_type": "stream",
     "text": [
      "{'alpha': 1}\n"
     ]
    }
   ],
   "source": [
    "print(lasso_regressor.best_params_)"
   ]
  },
  {
   "cell_type": "code",
   "execution_count": 32,
   "id": "f33e38e5",
   "metadata": {},
   "outputs": [
    {
     "name": "stdout",
     "output_type": "stream",
     "text": [
      "[[184. 222.]\n",
      " [181. 222.]\n",
      " [180. 222.]\n",
      " ...\n",
      " [151. 111.]\n",
      " [150. 111.]\n",
      " [153. 111.]]\n",
      " \n",
      "RMSE:  19.50720490533321\n",
      "R2 Score:  0.5416111694418532\n"
     ]
    },
    {
     "data": {
      "image/png": "[encoded data removed]",
      "text/plain": [
       "<Figure size 432x288 with 1 Axes>"
      ]
     },
     "metadata": {
      "needs_background": "light"
     },
     "output_type": "display_data"
    }
   ],
   "source": [
    "train_predict_values(lasso_regressor)"
   ]
  },
  {
   "cell_type": "code",
   "execution_count": 33,
   "id": "fe519a83",
   "metadata": {},
   "outputs": [
    {
     "name": "stdout",
     "output_type": "stream",
     "text": [
      "[[144. 165.]\n",
      " [143. 165.]\n",
      " [146. 165.]\n",
      " ...\n",
      " [170. 157.]\n",
      " [167. 157.]\n",
      " [167. 157.]]\n",
      " \n",
      "RMSE:  20.223627925542704\n",
      "R2_score:  0.4868790063314461\n"
     ]
    },
    {
     "data": {
      "image/png": "[encoded data removed]",
      "text/plain": [
       "<Figure size 432x288 with 1 Axes>"
      ]
     },
     "metadata": {
      "needs_background": "light"
     },
     "output_type": "display_data"
    }
   ],
   "source": [
    "test_predict_values(lasso_regressor)"
   ]
  },
  {
   "cell_type": "code",
   "execution_count": 34,
   "id": "973541b2",
   "metadata": {
    "scrolled": false
   },
   "outputs": [
    {
     "name": "stdout",
     "output_type": "stream",
     "text": [
      "Score:  139\n"
     ]
    }
   ],
   "source": [
    "example(lasso_regressor)"
   ]
  },
  {
   "cell_type": "markdown",
   "id": "9415f177",
   "metadata": {},
   "source": [
    "### 5. Support Vector Regression"
   ]
  },
  {
   "cell_type": "code",
   "execution_count": 35,
   "id": "51853f1a",
   "metadata": {},
   "outputs": [
    {
     "data": {
      "text/plain": [
       "SVR()"
      ]
     },
     "execution_count": 35,
     "metadata": {},
     "output_type": "execute_result"
    }
   ],
   "source": [
    "from sklearn.svm import SVR\n",
    "svr_regressor = SVR(kernel = 'rbf')\n",
    "svr_regressor.fit(X_train, y_train)"
   ]
  },
  {
   "cell_type": "code",
   "execution_count": 36,
   "id": "1287d8cf",
   "metadata": {},
   "outputs": [
    {
     "name": "stdout",
     "output_type": "stream",
     "text": [
      "[[184. 222.]\n",
      " [181. 222.]\n",
      " [181. 222.]\n",
      " ...\n",
      " [156. 111.]\n",
      " [155. 111.]\n",
      " [159. 111.]]\n",
      " \n",
      "RMSE:  20.242155098844826\n",
      "R2 Score:  0.506420138966111\n"
     ]
    },
    {
     "data": {
      "image/png": "[encoded data removed]",
      "text/plain": [
       "<Figure size 432x288 with 1 Axes>"
      ]
     },
     "metadata": {
      "needs_background": "light"
     },
     "output_type": "display_data"
    }
   ],
   "source": [
    "train_predict_values(svr_regressor)"
   ]
  },
  {
   "cell_type": "code",
   "execution_count": 37,
   "id": "0ed3e5e3",
   "metadata": {},
   "outputs": [
    {
     "name": "stdout",
     "output_type": "stream",
     "text": [
      "[[140. 165.]\n",
      " [139. 165.]\n",
      " [141. 165.]\n",
      " ...\n",
      " [172. 157.]\n",
      " [169. 157.]\n",
      " [170. 157.]]\n",
      " \n",
      "RMSE:  20.930104867177203\n",
      "R2_score:  0.45040286618480785\n"
     ]
    },
    {
     "data": {
      "image/png": "[encoded data removed]",
      "text/plain": [
       "<Figure size 432x288 with 1 Axes>"
      ]
     },
     "metadata": {
      "needs_background": "light"
     },
     "output_type": "display_data"
    }
   ],
   "source": [
    "test_predict_values(svr_regressor)"
   ]
  },
  {
   "cell_type": "code",
   "execution_count": 38,
   "id": "563b7809",
   "metadata": {},
   "outputs": [
    {
     "name": "stdout",
     "output_type": "stream",
     "text": [
      "Score:  145\n"
     ]
    }
   ],
   "source": [
    "example(svr_regressor)"
   ]
  },
  {
   "cell_type": "markdown",
   "id": "334e95b6",
   "metadata": {},
   "source": [
    "### 6. KNN Regressor"
   ]
  },
  {
   "cell_type": "code",
   "execution_count": 109,
   "id": "a0666a49",
   "metadata": {},
   "outputs": [],
   "source": [
    "from sklearn.neighbors import KNeighborsRegressor\n",
    "from sklearn.model_selection import RandomizedSearchCV"
   ]
  },
  {
   "cell_type": "code",
   "execution_count": 110,
   "id": "7308eb5a",
   "metadata": {},
   "outputs": [
    {
     "data": {
      "text/plain": [
       "RandomizedSearchCV(estimator=KNeighborsRegressor(),\n",
       "                   param_distributions={'n_neighbors': [1, 2, 3, 4, 5]})"
      ]
     },
     "execution_count": 110,
     "metadata": {},
     "output_type": "execute_result"
    }
   ],
   "source": [
    "knn = KNeighborsRegressor()\n",
    "parameters = {'n_neighbors' :[1,2,3,4,5]}\n",
    "knn_regressor = RandomizedSearchCV(knn, parameters)\n",
    "knn_regressor.fit(X_train, y_train)"
   ]
  },
  {
   "cell_type": "code",
   "execution_count": 111,
   "id": "45f69d1f",
   "metadata": {},
   "outputs": [
    {
     "name": "stdout",
     "output_type": "stream",
     "text": [
      "{'n_neighbors': 5}\n"
     ]
    }
   ],
   "source": [
    "print(knn_regressor.best_params_)"
   ]
  },
  {
   "cell_type": "code",
   "execution_count": 112,
   "id": "f9fa1ae5",
   "metadata": {},
   "outputs": [
    {
     "name": "stdout",
     "output_type": "stream",
     "text": [
      "[[222. 222.]\n",
      " [222. 222.]\n",
      " [222. 222.]\n",
      " ...\n",
      " [123. 111.]\n",
      " [113. 111.]\n",
      " [154. 111.]]\n",
      " \n",
      "RMSE:  10.524107256258679\n",
      "R2 Score:  0.8665819877036468\n"
     ]
    },
    {
     "data": {
      "image/png": "[encoded data removed]",
      "text/plain": [
       "<Figure size 432x288 with 1 Axes>"
      ]
     },
     "metadata": {
      "needs_background": "light"
     },
     "output_type": "display_data"
    }
   ],
   "source": [
    "train_predict_values(knn_regressor)"
   ]
  },
  {
   "cell_type": "code",
   "execution_count": 113,
   "id": "060d084b",
   "metadata": {},
   "outputs": [
    {
     "name": "stdout",
     "output_type": "stream",
     "text": [
      "[[166. 165.]\n",
      " [166. 165.]\n",
      " [156. 165.]\n",
      " ...\n",
      " [172. 157.]\n",
      " [165. 157.]\n",
      " [165. 157.]]\n",
      " \n",
      "RMSE:  22.727402559478946\n",
      "R2_score:  0.3519608264446923\n"
     ]
    },
    {
     "data": {
      "image/png": "[encoded data removed]",
      "text/plain": [
       "<Figure size 432x288 with 1 Axes>"
      ]
     },
     "metadata": {
      "needs_background": "light"
     },
     "output_type": "display_data"
    }
   ],
   "source": [
    "test_predict_values(knn_regressor)"
   ]
  },
  {
   "cell_type": "code",
   "execution_count": 114,
   "id": "8b0d2faf",
   "metadata": {},
   "outputs": [
    {
     "name": "stdout",
     "output_type": "stream",
     "text": [
      "Score:  159\n"
     ]
    }
   ],
   "source": [
    "example(knn_regressor)"
   ]
  },
  {
   "cell_type": "markdown",
   "id": "b62266ee",
   "metadata": {},
   "source": [
    "## Pickle files"
   ]
  },
  {
   "cell_type": "code",
   "execution_count": 39,
   "id": "720f0629",
   "metadata": {},
   "outputs": [],
   "source": [
    "filename = 'ridge_regression_predict.pkl'\n",
    "pickle.dump(ridge_regressor, open(filename, 'wb'))"
   ]
  },
  {
   "cell_type": "code",
   "execution_count": 40,
   "id": "331a0558",
   "metadata": {},
   "outputs": [],
   "source": [
    "filename = 'lasso_regression_predict.pkl'\n",
    "pickle.dump(lasso_regressor, open(filename, 'wb'))"
   ]
  },
  {
   "cell_type": "code",
   "execution_count": 41,
   "id": "62724a26",
   "metadata": {},
   "outputs": [],
   "source": [
    "filename = 'svr_regression_predict.pkl'\n",
    "pickle.dump(svr_regressor, open(filename, 'wb'))"
   ]
  }
 ],
 "metadata": {
  "kernelspec": {
   "display_name": "Python 3",
   "language": "python",
   "name": "python3"
  },
  "language_info": {
   "codemirror_mode": {
    "name": "ipython",
    "version": 3
   },
   "file_extension": ".py",
   "mimetype": "text/x-python",
   "name": "python",
   "nbconvert_exporter": "python",
   "pygments_lexer": "ipython3",
   "version": "3.8.10"
  }
 },
 "nbformat": 4,
 "nbformat_minor": 5
}
