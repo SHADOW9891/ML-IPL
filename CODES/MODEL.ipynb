{
 "cells": [
  {
   "cell_type": "markdown",
   "id": "4b77636e",
   "metadata": {},
   "source": [
    "# ML Model"
   ]
  },
  {
   "cell_type": "markdown",
   "id": "a6fc4114",
   "metadata": {},
   "source": [
    "### Import the libraries"
   ]
  },
  {
   "cell_type": "code",
   "execution_count": 1,
   "id": "af88dd1e",
   "metadata": {},
   "outputs": [],
   "source": [
    "import numpy as np\n",
    "import pandas as pd\n",
    "from sklearn.model_selection import cross_val_score\n",
    "from sklearn.metrics import r2_score\n",
    "from sklearn import metrics\n",
    "import seaborn as sns\n",
    "import pickle\n",
    "\n",
    "import warnings\n",
    "warnings.filterwarnings('ignore')"
   ]
  },
  {
   "cell_type": "markdown",
   "id": "930c1e22",
   "metadata": {},
   "source": [
    "### Import the dataset"
   ]
  },
  {
   "cell_type": "code",
   "execution_count": 537,
   "id": "7f59bfc0",
   "metadata": {},
   "outputs": [
    {
     "data": {
      "text/html": [
       "<div>\n",
       "<style scoped>\n",
       "    .dataframe tbody tr th:only-of-type {\n",
       "        vertical-align: middle;\n",
       "    }\n",
       "\n",
       "    .dataframe tbody tr th {\n",
       "        vertical-align: top;\n",
       "    }\n",
       "\n",
       "    .dataframe thead th {\n",
       "        text-align: right;\n",
       "    }\n",
       "</style>\n",
       "<table border=\"1\" class=\"dataframe\">\n",
       "  <thead>\n",
       "    <tr style=\"text-align: right;\">\n",
       "      <th></th>\n",
       "      <th>venue_Barabati Stadium</th>\n",
       "      <th>venue_Brabourne Stadium</th>\n",
       "      <th>venue_Buffalo Park</th>\n",
       "      <th>venue_De Beers Diamond Oval</th>\n",
       "      <th>venue_Dr DY Patil Sports Academy</th>\n",
       "      <th>venue_Dr. Y.S. Rajasekhara Reddy ACA-VDCA Cricket Stadium</th>\n",
       "      <th>venue_Dubai International Cricket Stadium</th>\n",
       "      <th>venue_Eden Gardens</th>\n",
       "      <th>venue_Feroz Shah Kotla</th>\n",
       "      <th>venue_Himachal Pradesh Cricket Association Stadium</th>\n",
       "      <th>...</th>\n",
       "      <th>bowling_team_Royal Challengers Bangalore</th>\n",
       "      <th>bowling_team_Sunrisers Hyderabad</th>\n",
       "      <th>inning</th>\n",
       "      <th>season</th>\n",
       "      <th>overs</th>\n",
       "      <th>runs_last5</th>\n",
       "      <th>wickets_last5</th>\n",
       "      <th>cum_runs</th>\n",
       "      <th>cum_wickets</th>\n",
       "      <th>total_runs</th>\n",
       "    </tr>\n",
       "  </thead>\n",
       "  <tbody>\n",
       "    <tr>\n",
       "      <th>0</th>\n",
       "      <td>0</td>\n",
       "      <td>0</td>\n",
       "      <td>0</td>\n",
       "      <td>0</td>\n",
       "      <td>0</td>\n",
       "      <td>0</td>\n",
       "      <td>0</td>\n",
       "      <td>0</td>\n",
       "      <td>0</td>\n",
       "      <td>0</td>\n",
       "      <td>...</td>\n",
       "      <td>1</td>\n",
       "      <td>0</td>\n",
       "      <td>1</td>\n",
       "      <td>2008</td>\n",
       "      <td>0.1</td>\n",
       "      <td>1</td>\n",
       "      <td>0</td>\n",
       "      <td>1</td>\n",
       "      <td>0</td>\n",
       "      <td>222</td>\n",
       "    </tr>\n",
       "    <tr>\n",
       "      <th>1</th>\n",
       "      <td>0</td>\n",
       "      <td>0</td>\n",
       "      <td>0</td>\n",
       "      <td>0</td>\n",
       "      <td>0</td>\n",
       "      <td>0</td>\n",
       "      <td>0</td>\n",
       "      <td>0</td>\n",
       "      <td>0</td>\n",
       "      <td>0</td>\n",
       "      <td>...</td>\n",
       "      <td>1</td>\n",
       "      <td>0</td>\n",
       "      <td>1</td>\n",
       "      <td>2008</td>\n",
       "      <td>0.2</td>\n",
       "      <td>1</td>\n",
       "      <td>0</td>\n",
       "      <td>1</td>\n",
       "      <td>0</td>\n",
       "      <td>222</td>\n",
       "    </tr>\n",
       "    <tr>\n",
       "      <th>2</th>\n",
       "      <td>0</td>\n",
       "      <td>0</td>\n",
       "      <td>0</td>\n",
       "      <td>0</td>\n",
       "      <td>0</td>\n",
       "      <td>0</td>\n",
       "      <td>0</td>\n",
       "      <td>0</td>\n",
       "      <td>0</td>\n",
       "      <td>0</td>\n",
       "      <td>...</td>\n",
       "      <td>1</td>\n",
       "      <td>0</td>\n",
       "      <td>1</td>\n",
       "      <td>2008</td>\n",
       "      <td>0.3</td>\n",
       "      <td>2</td>\n",
       "      <td>0</td>\n",
       "      <td>2</td>\n",
       "      <td>0</td>\n",
       "      <td>222</td>\n",
       "    </tr>\n",
       "    <tr>\n",
       "      <th>3</th>\n",
       "      <td>0</td>\n",
       "      <td>0</td>\n",
       "      <td>0</td>\n",
       "      <td>0</td>\n",
       "      <td>0</td>\n",
       "      <td>0</td>\n",
       "      <td>0</td>\n",
       "      <td>0</td>\n",
       "      <td>0</td>\n",
       "      <td>0</td>\n",
       "      <td>...</td>\n",
       "      <td>1</td>\n",
       "      <td>0</td>\n",
       "      <td>1</td>\n",
       "      <td>2008</td>\n",
       "      <td>0.4</td>\n",
       "      <td>2</td>\n",
       "      <td>0</td>\n",
       "      <td>2</td>\n",
       "      <td>0</td>\n",
       "      <td>222</td>\n",
       "    </tr>\n",
       "    <tr>\n",
       "      <th>4</th>\n",
       "      <td>0</td>\n",
       "      <td>0</td>\n",
       "      <td>0</td>\n",
       "      <td>0</td>\n",
       "      <td>0</td>\n",
       "      <td>0</td>\n",
       "      <td>0</td>\n",
       "      <td>0</td>\n",
       "      <td>0</td>\n",
       "      <td>0</td>\n",
       "      <td>...</td>\n",
       "      <td>1</td>\n",
       "      <td>0</td>\n",
       "      <td>1</td>\n",
       "      <td>2008</td>\n",
       "      <td>0.5</td>\n",
       "      <td>2</td>\n",
       "      <td>0</td>\n",
       "      <td>2</td>\n",
       "      <td>0</td>\n",
       "      <td>222</td>\n",
       "    </tr>\n",
       "    <tr>\n",
       "      <th>...</th>\n",
       "      <td>...</td>\n",
       "      <td>...</td>\n",
       "      <td>...</td>\n",
       "      <td>...</td>\n",
       "      <td>...</td>\n",
       "      <td>...</td>\n",
       "      <td>...</td>\n",
       "      <td>...</td>\n",
       "      <td>...</td>\n",
       "      <td>...</td>\n",
       "      <td>...</td>\n",
       "      <td>...</td>\n",
       "      <td>...</td>\n",
       "      <td>...</td>\n",
       "      <td>...</td>\n",
       "      <td>...</td>\n",
       "      <td>...</td>\n",
       "      <td>...</td>\n",
       "      <td>...</td>\n",
       "      <td>...</td>\n",
       "      <td>...</td>\n",
       "    </tr>\n",
       "    <tr>\n",
       "      <th>166148</th>\n",
       "      <td>0</td>\n",
       "      <td>0</td>\n",
       "      <td>0</td>\n",
       "      <td>0</td>\n",
       "      <td>0</td>\n",
       "      <td>0</td>\n",
       "      <td>1</td>\n",
       "      <td>0</td>\n",
       "      <td>0</td>\n",
       "      <td>0</td>\n",
       "      <td>...</td>\n",
       "      <td>0</td>\n",
       "      <td>0</td>\n",
       "      <td>2</td>\n",
       "      <td>2020</td>\n",
       "      <td>17.6</td>\n",
       "      <td>42</td>\n",
       "      <td>2</td>\n",
       "      <td>154</td>\n",
       "      <td>4</td>\n",
       "      <td>157</td>\n",
       "    </tr>\n",
       "    <tr>\n",
       "      <th>166149</th>\n",
       "      <td>0</td>\n",
       "      <td>0</td>\n",
       "      <td>0</td>\n",
       "      <td>0</td>\n",
       "      <td>0</td>\n",
       "      <td>0</td>\n",
       "      <td>1</td>\n",
       "      <td>0</td>\n",
       "      <td>0</td>\n",
       "      <td>0</td>\n",
       "      <td>...</td>\n",
       "      <td>0</td>\n",
       "      <td>0</td>\n",
       "      <td>2</td>\n",
       "      <td>2020</td>\n",
       "      <td>18.1</td>\n",
       "      <td>42</td>\n",
       "      <td>2</td>\n",
       "      <td>155</td>\n",
       "      <td>4</td>\n",
       "      <td>157</td>\n",
       "    </tr>\n",
       "    <tr>\n",
       "      <th>166150</th>\n",
       "      <td>0</td>\n",
       "      <td>0</td>\n",
       "      <td>0</td>\n",
       "      <td>0</td>\n",
       "      <td>0</td>\n",
       "      <td>0</td>\n",
       "      <td>1</td>\n",
       "      <td>0</td>\n",
       "      <td>0</td>\n",
       "      <td>0</td>\n",
       "      <td>...</td>\n",
       "      <td>0</td>\n",
       "      <td>0</td>\n",
       "      <td>2</td>\n",
       "      <td>2020</td>\n",
       "      <td>18.2</td>\n",
       "      <td>42</td>\n",
       "      <td>2</td>\n",
       "      <td>156</td>\n",
       "      <td>4</td>\n",
       "      <td>157</td>\n",
       "    </tr>\n",
       "    <tr>\n",
       "      <th>166151</th>\n",
       "      <td>0</td>\n",
       "      <td>0</td>\n",
       "      <td>0</td>\n",
       "      <td>0</td>\n",
       "      <td>0</td>\n",
       "      <td>0</td>\n",
       "      <td>1</td>\n",
       "      <td>0</td>\n",
       "      <td>0</td>\n",
       "      <td>0</td>\n",
       "      <td>...</td>\n",
       "      <td>0</td>\n",
       "      <td>0</td>\n",
       "      <td>2</td>\n",
       "      <td>2020</td>\n",
       "      <td>18.3</td>\n",
       "      <td>41</td>\n",
       "      <td>3</td>\n",
       "      <td>156</td>\n",
       "      <td>5</td>\n",
       "      <td>157</td>\n",
       "    </tr>\n",
       "    <tr>\n",
       "      <th>166152</th>\n",
       "      <td>0</td>\n",
       "      <td>0</td>\n",
       "      <td>0</td>\n",
       "      <td>0</td>\n",
       "      <td>0</td>\n",
       "      <td>0</td>\n",
       "      <td>1</td>\n",
       "      <td>0</td>\n",
       "      <td>0</td>\n",
       "      <td>0</td>\n",
       "      <td>...</td>\n",
       "      <td>0</td>\n",
       "      <td>0</td>\n",
       "      <td>2</td>\n",
       "      <td>2020</td>\n",
       "      <td>18.4</td>\n",
       "      <td>42</td>\n",
       "      <td>3</td>\n",
       "      <td>157</td>\n",
       "      <td>5</td>\n",
       "      <td>157</td>\n",
       "    </tr>\n",
       "  </tbody>\n",
       "</table>\n",
       "<p>166153 rows × 56 columns</p>\n",
       "</div>"
      ],
      "text/plain": [
       "        venue_Barabati Stadium  venue_Brabourne Stadium  venue_Buffalo Park  \\\n",
       "0                            0                        0                   0   \n",
       "1                            0                        0                   0   \n",
       "2                            0                        0                   0   \n",
       "3                            0                        0                   0   \n",
       "4                            0                        0                   0   \n",
       "...                        ...                      ...                 ...   \n",
       "166148                       0                        0                   0   \n",
       "166149                       0                        0                   0   \n",
       "166150                       0                        0                   0   \n",
       "166151                       0                        0                   0   \n",
       "166152                       0                        0                   0   \n",
       "\n",
       "        venue_De Beers Diamond Oval  venue_Dr DY Patil Sports Academy  \\\n",
       "0                                 0                                 0   \n",
       "1                                 0                                 0   \n",
       "2                                 0                                 0   \n",
       "3                                 0                                 0   \n",
       "4                                 0                                 0   \n",
       "...                             ...                               ...   \n",
       "166148                            0                                 0   \n",
       "166149                            0                                 0   \n",
       "166150                            0                                 0   \n",
       "166151                            0                                 0   \n",
       "166152                            0                                 0   \n",
       "\n",
       "        venue_Dr. Y.S. Rajasekhara Reddy ACA-VDCA Cricket Stadium  \\\n",
       "0                                                       0           \n",
       "1                                                       0           \n",
       "2                                                       0           \n",
       "3                                                       0           \n",
       "4                                                       0           \n",
       "...                                                   ...           \n",
       "166148                                                  0           \n",
       "166149                                                  0           \n",
       "166150                                                  0           \n",
       "166151                                                  0           \n",
       "166152                                                  0           \n",
       "\n",
       "        venue_Dubai International Cricket Stadium  venue_Eden Gardens  \\\n",
       "0                                               0                   0   \n",
       "1                                               0                   0   \n",
       "2                                               0                   0   \n",
       "3                                               0                   0   \n",
       "4                                               0                   0   \n",
       "...                                           ...                 ...   \n",
       "166148                                          1                   0   \n",
       "166149                                          1                   0   \n",
       "166150                                          1                   0   \n",
       "166151                                          1                   0   \n",
       "166152                                          1                   0   \n",
       "\n",
       "        venue_Feroz Shah Kotla  \\\n",
       "0                            0   \n",
       "1                            0   \n",
       "2                            0   \n",
       "3                            0   \n",
       "4                            0   \n",
       "...                        ...   \n",
       "166148                       0   \n",
       "166149                       0   \n",
       "166150                       0   \n",
       "166151                       0   \n",
       "166152                       0   \n",
       "\n",
       "        venue_Himachal Pradesh Cricket Association Stadium  ...  \\\n",
       "0                                                       0   ...   \n",
       "1                                                       0   ...   \n",
       "2                                                       0   ...   \n",
       "3                                                       0   ...   \n",
       "4                                                       0   ...   \n",
       "...                                                   ...   ...   \n",
       "166148                                                  0   ...   \n",
       "166149                                                  0   ...   \n",
       "166150                                                  0   ...   \n",
       "166151                                                  0   ...   \n",
       "166152                                                  0   ...   \n",
       "\n",
       "        bowling_team_Royal Challengers Bangalore  \\\n",
       "0                                              1   \n",
       "1                                              1   \n",
       "2                                              1   \n",
       "3                                              1   \n",
       "4                                              1   \n",
       "...                                          ...   \n",
       "166148                                         0   \n",
       "166149                                         0   \n",
       "166150                                         0   \n",
       "166151                                         0   \n",
       "166152                                         0   \n",
       "\n",
       "        bowling_team_Sunrisers Hyderabad  inning  season  overs  runs_last5  \\\n",
       "0                                      0       1    2008    0.1           1   \n",
       "1                                      0       1    2008    0.2           1   \n",
       "2                                      0       1    2008    0.3           2   \n",
       "3                                      0       1    2008    0.4           2   \n",
       "4                                      0       1    2008    0.5           2   \n",
       "...                                  ...     ...     ...    ...         ...   \n",
       "166148                                 0       2    2020   17.6          42   \n",
       "166149                                 0       2    2020   18.1          42   \n",
       "166150                                 0       2    2020   18.2          42   \n",
       "166151                                 0       2    2020   18.3          41   \n",
       "166152                                 0       2    2020   18.4          42   \n",
       "\n",
       "        wickets_last5  cum_runs  cum_wickets  total_runs  \n",
       "0                   0         1            0         222  \n",
       "1                   0         1            0         222  \n",
       "2                   0         2            0         222  \n",
       "3                   0         2            0         222  \n",
       "4                   0         2            0         222  \n",
       "...               ...       ...          ...         ...  \n",
       "166148              2       154            4         157  \n",
       "166149              2       155            4         157  \n",
       "166150              2       156            4         157  \n",
       "166151              3       156            5         157  \n",
       "166152              3       157            5         157  \n",
       "\n",
       "[166153 rows x 56 columns]"
      ]
     },
     "execution_count": 537,
     "metadata": {},
     "output_type": "execute_result"
    }
   ],
   "source": [
    "dataset = pd.read_csv('C:\\\\Users\\\\SHADOW\\\\Technical Seminar\\\\IPL\\\\DATASETS\\\\encoded.csv')\n",
    "dataset"
   ]
  },
  {
   "cell_type": "markdown",
   "id": "536b9ca1",
   "metadata": {},
   "source": [
    "_Consider overs data from 5 onwards for better prediction_"
   ]
  },
  {
   "cell_type": "code",
   "execution_count": 538,
   "id": "1d906a2c",
   "metadata": {},
   "outputs": [],
   "source": [
    "dataset = dataset[dataset['overs'] >= 5]"
   ]
  },
  {
   "cell_type": "code",
   "execution_count": 539,
   "id": "6ea44f52",
   "metadata": {},
   "outputs": [
    {
     "data": {
      "text/html": [
       "<div>\n",
       "<style scoped>\n",
       "    .dataframe tbody tr th:only-of-type {\n",
       "        vertical-align: middle;\n",
       "    }\n",
       "\n",
       "    .dataframe tbody tr th {\n",
       "        vertical-align: top;\n",
       "    }\n",
       "\n",
       "    .dataframe thead th {\n",
       "        text-align: right;\n",
       "    }\n",
       "</style>\n",
       "<table border=\"1\" class=\"dataframe\">\n",
       "  <thead>\n",
       "    <tr style=\"text-align: right;\">\n",
       "      <th></th>\n",
       "      <th>venue_Barabati Stadium</th>\n",
       "      <th>venue_Brabourne Stadium</th>\n",
       "      <th>venue_Buffalo Park</th>\n",
       "      <th>venue_De Beers Diamond Oval</th>\n",
       "      <th>venue_Dr DY Patil Sports Academy</th>\n",
       "      <th>venue_Dr. Y.S. Rajasekhara Reddy ACA-VDCA Cricket Stadium</th>\n",
       "      <th>venue_Dubai International Cricket Stadium</th>\n",
       "      <th>venue_Eden Gardens</th>\n",
       "      <th>venue_Feroz Shah Kotla</th>\n",
       "      <th>venue_Himachal Pradesh Cricket Association Stadium</th>\n",
       "      <th>...</th>\n",
       "      <th>bowling_team_Royal Challengers Bangalore</th>\n",
       "      <th>bowling_team_Sunrisers Hyderabad</th>\n",
       "      <th>inning</th>\n",
       "      <th>season</th>\n",
       "      <th>overs</th>\n",
       "      <th>runs_last5</th>\n",
       "      <th>wickets_last5</th>\n",
       "      <th>cum_runs</th>\n",
       "      <th>cum_wickets</th>\n",
       "      <th>total_runs</th>\n",
       "    </tr>\n",
       "  </thead>\n",
       "  <tbody>\n",
       "    <tr>\n",
       "      <th>32</th>\n",
       "      <td>0</td>\n",
       "      <td>0</td>\n",
       "      <td>0</td>\n",
       "      <td>0</td>\n",
       "      <td>0</td>\n",
       "      <td>0</td>\n",
       "      <td>0</td>\n",
       "      <td>0</td>\n",
       "      <td>0</td>\n",
       "      <td>0</td>\n",
       "      <td>...</td>\n",
       "      <td>1</td>\n",
       "      <td>0</td>\n",
       "      <td>1</td>\n",
       "      <td>2008</td>\n",
       "      <td>5.1</td>\n",
       "      <td>59</td>\n",
       "      <td>0</td>\n",
       "      <td>61</td>\n",
       "      <td>0</td>\n",
       "      <td>222</td>\n",
       "    </tr>\n",
       "    <tr>\n",
       "      <th>33</th>\n",
       "      <td>0</td>\n",
       "      <td>0</td>\n",
       "      <td>0</td>\n",
       "      <td>0</td>\n",
       "      <td>0</td>\n",
       "      <td>0</td>\n",
       "      <td>0</td>\n",
       "      <td>0</td>\n",
       "      <td>0</td>\n",
       "      <td>0</td>\n",
       "      <td>...</td>\n",
       "      <td>1</td>\n",
       "      <td>0</td>\n",
       "      <td>1</td>\n",
       "      <td>2008</td>\n",
       "      <td>5.2</td>\n",
       "      <td>59</td>\n",
       "      <td>1</td>\n",
       "      <td>61</td>\n",
       "      <td>1</td>\n",
       "      <td>222</td>\n",
       "    </tr>\n",
       "    <tr>\n",
       "      <th>34</th>\n",
       "      <td>0</td>\n",
       "      <td>0</td>\n",
       "      <td>0</td>\n",
       "      <td>0</td>\n",
       "      <td>0</td>\n",
       "      <td>0</td>\n",
       "      <td>0</td>\n",
       "      <td>0</td>\n",
       "      <td>0</td>\n",
       "      <td>0</td>\n",
       "      <td>...</td>\n",
       "      <td>1</td>\n",
       "      <td>0</td>\n",
       "      <td>1</td>\n",
       "      <td>2008</td>\n",
       "      <td>5.3</td>\n",
       "      <td>59</td>\n",
       "      <td>1</td>\n",
       "      <td>61</td>\n",
       "      <td>1</td>\n",
       "      <td>222</td>\n",
       "    </tr>\n",
       "    <tr>\n",
       "      <th>35</th>\n",
       "      <td>0</td>\n",
       "      <td>0</td>\n",
       "      <td>0</td>\n",
       "      <td>0</td>\n",
       "      <td>0</td>\n",
       "      <td>0</td>\n",
       "      <td>0</td>\n",
       "      <td>0</td>\n",
       "      <td>0</td>\n",
       "      <td>0</td>\n",
       "      <td>...</td>\n",
       "      <td>1</td>\n",
       "      <td>0</td>\n",
       "      <td>1</td>\n",
       "      <td>2008</td>\n",
       "      <td>5.4</td>\n",
       "      <td>59</td>\n",
       "      <td>1</td>\n",
       "      <td>61</td>\n",
       "      <td>1</td>\n",
       "      <td>222</td>\n",
       "    </tr>\n",
       "    <tr>\n",
       "      <th>36</th>\n",
       "      <td>0</td>\n",
       "      <td>0</td>\n",
       "      <td>0</td>\n",
       "      <td>0</td>\n",
       "      <td>0</td>\n",
       "      <td>0</td>\n",
       "      <td>0</td>\n",
       "      <td>0</td>\n",
       "      <td>0</td>\n",
       "      <td>0</td>\n",
       "      <td>...</td>\n",
       "      <td>1</td>\n",
       "      <td>0</td>\n",
       "      <td>1</td>\n",
       "      <td>2008</td>\n",
       "      <td>5.5</td>\n",
       "      <td>58</td>\n",
       "      <td>1</td>\n",
       "      <td>61</td>\n",
       "      <td>1</td>\n",
       "      <td>222</td>\n",
       "    </tr>\n",
       "    <tr>\n",
       "      <th>...</th>\n",
       "      <td>...</td>\n",
       "      <td>...</td>\n",
       "      <td>...</td>\n",
       "      <td>...</td>\n",
       "      <td>...</td>\n",
       "      <td>...</td>\n",
       "      <td>...</td>\n",
       "      <td>...</td>\n",
       "      <td>...</td>\n",
       "      <td>...</td>\n",
       "      <td>...</td>\n",
       "      <td>...</td>\n",
       "      <td>...</td>\n",
       "      <td>...</td>\n",
       "      <td>...</td>\n",
       "      <td>...</td>\n",
       "      <td>...</td>\n",
       "      <td>...</td>\n",
       "      <td>...</td>\n",
       "      <td>...</td>\n",
       "      <td>...</td>\n",
       "    </tr>\n",
       "    <tr>\n",
       "      <th>166148</th>\n",
       "      <td>0</td>\n",
       "      <td>0</td>\n",
       "      <td>0</td>\n",
       "      <td>0</td>\n",
       "      <td>0</td>\n",
       "      <td>0</td>\n",
       "      <td>1</td>\n",
       "      <td>0</td>\n",
       "      <td>0</td>\n",
       "      <td>0</td>\n",
       "      <td>...</td>\n",
       "      <td>0</td>\n",
       "      <td>0</td>\n",
       "      <td>2</td>\n",
       "      <td>2020</td>\n",
       "      <td>17.6</td>\n",
       "      <td>42</td>\n",
       "      <td>2</td>\n",
       "      <td>154</td>\n",
       "      <td>4</td>\n",
       "      <td>157</td>\n",
       "    </tr>\n",
       "    <tr>\n",
       "      <th>166149</th>\n",
       "      <td>0</td>\n",
       "      <td>0</td>\n",
       "      <td>0</td>\n",
       "      <td>0</td>\n",
       "      <td>0</td>\n",
       "      <td>0</td>\n",
       "      <td>1</td>\n",
       "      <td>0</td>\n",
       "      <td>0</td>\n",
       "      <td>0</td>\n",
       "      <td>...</td>\n",
       "      <td>0</td>\n",
       "      <td>0</td>\n",
       "      <td>2</td>\n",
       "      <td>2020</td>\n",
       "      <td>18.1</td>\n",
       "      <td>42</td>\n",
       "      <td>2</td>\n",
       "      <td>155</td>\n",
       "      <td>4</td>\n",
       "      <td>157</td>\n",
       "    </tr>\n",
       "    <tr>\n",
       "      <th>166150</th>\n",
       "      <td>0</td>\n",
       "      <td>0</td>\n",
       "      <td>0</td>\n",
       "      <td>0</td>\n",
       "      <td>0</td>\n",
       "      <td>0</td>\n",
       "      <td>1</td>\n",
       "      <td>0</td>\n",
       "      <td>0</td>\n",
       "      <td>0</td>\n",
       "      <td>...</td>\n",
       "      <td>0</td>\n",
       "      <td>0</td>\n",
       "      <td>2</td>\n",
       "      <td>2020</td>\n",
       "      <td>18.2</td>\n",
       "      <td>42</td>\n",
       "      <td>2</td>\n",
       "      <td>156</td>\n",
       "      <td>4</td>\n",
       "      <td>157</td>\n",
       "    </tr>\n",
       "    <tr>\n",
       "      <th>166151</th>\n",
       "      <td>0</td>\n",
       "      <td>0</td>\n",
       "      <td>0</td>\n",
       "      <td>0</td>\n",
       "      <td>0</td>\n",
       "      <td>0</td>\n",
       "      <td>1</td>\n",
       "      <td>0</td>\n",
       "      <td>0</td>\n",
       "      <td>0</td>\n",
       "      <td>...</td>\n",
       "      <td>0</td>\n",
       "      <td>0</td>\n",
       "      <td>2</td>\n",
       "      <td>2020</td>\n",
       "      <td>18.3</td>\n",
       "      <td>41</td>\n",
       "      <td>3</td>\n",
       "      <td>156</td>\n",
       "      <td>5</td>\n",
       "      <td>157</td>\n",
       "    </tr>\n",
       "    <tr>\n",
       "      <th>166152</th>\n",
       "      <td>0</td>\n",
       "      <td>0</td>\n",
       "      <td>0</td>\n",
       "      <td>0</td>\n",
       "      <td>0</td>\n",
       "      <td>0</td>\n",
       "      <td>1</td>\n",
       "      <td>0</td>\n",
       "      <td>0</td>\n",
       "      <td>0</td>\n",
       "      <td>...</td>\n",
       "      <td>0</td>\n",
       "      <td>0</td>\n",
       "      <td>2</td>\n",
       "      <td>2020</td>\n",
       "      <td>18.4</td>\n",
       "      <td>42</td>\n",
       "      <td>3</td>\n",
       "      <td>157</td>\n",
       "      <td>5</td>\n",
       "      <td>157</td>\n",
       "    </tr>\n",
       "  </tbody>\n",
       "</table>\n",
       "<p>122542 rows × 56 columns</p>\n",
       "</div>"
      ],
      "text/plain": [
       "        venue_Barabati Stadium  venue_Brabourne Stadium  venue_Buffalo Park  \\\n",
       "32                           0                        0                   0   \n",
       "33                           0                        0                   0   \n",
       "34                           0                        0                   0   \n",
       "35                           0                        0                   0   \n",
       "36                           0                        0                   0   \n",
       "...                        ...                      ...                 ...   \n",
       "166148                       0                        0                   0   \n",
       "166149                       0                        0                   0   \n",
       "166150                       0                        0                   0   \n",
       "166151                       0                        0                   0   \n",
       "166152                       0                        0                   0   \n",
       "\n",
       "        venue_De Beers Diamond Oval  venue_Dr DY Patil Sports Academy  \\\n",
       "32                                0                                 0   \n",
       "33                                0                                 0   \n",
       "34                                0                                 0   \n",
       "35                                0                                 0   \n",
       "36                                0                                 0   \n",
       "...                             ...                               ...   \n",
       "166148                            0                                 0   \n",
       "166149                            0                                 0   \n",
       "166150                            0                                 0   \n",
       "166151                            0                                 0   \n",
       "166152                            0                                 0   \n",
       "\n",
       "        venue_Dr. Y.S. Rajasekhara Reddy ACA-VDCA Cricket Stadium  \\\n",
       "32                                                      0           \n",
       "33                                                      0           \n",
       "34                                                      0           \n",
       "35                                                      0           \n",
       "36                                                      0           \n",
       "...                                                   ...           \n",
       "166148                                                  0           \n",
       "166149                                                  0           \n",
       "166150                                                  0           \n",
       "166151                                                  0           \n",
       "166152                                                  0           \n",
       "\n",
       "        venue_Dubai International Cricket Stadium  venue_Eden Gardens  \\\n",
       "32                                              0                   0   \n",
       "33                                              0                   0   \n",
       "34                                              0                   0   \n",
       "35                                              0                   0   \n",
       "36                                              0                   0   \n",
       "...                                           ...                 ...   \n",
       "166148                                          1                   0   \n",
       "166149                                          1                   0   \n",
       "166150                                          1                   0   \n",
       "166151                                          1                   0   \n",
       "166152                                          1                   0   \n",
       "\n",
       "        venue_Feroz Shah Kotla  \\\n",
       "32                           0   \n",
       "33                           0   \n",
       "34                           0   \n",
       "35                           0   \n",
       "36                           0   \n",
       "...                        ...   \n",
       "166148                       0   \n",
       "166149                       0   \n",
       "166150                       0   \n",
       "166151                       0   \n",
       "166152                       0   \n",
       "\n",
       "        venue_Himachal Pradesh Cricket Association Stadium  ...  \\\n",
       "32                                                      0   ...   \n",
       "33                                                      0   ...   \n",
       "34                                                      0   ...   \n",
       "35                                                      0   ...   \n",
       "36                                                      0   ...   \n",
       "...                                                   ...   ...   \n",
       "166148                                                  0   ...   \n",
       "166149                                                  0   ...   \n",
       "166150                                                  0   ...   \n",
       "166151                                                  0   ...   \n",
       "166152                                                  0   ...   \n",
       "\n",
       "        bowling_team_Royal Challengers Bangalore  \\\n",
       "32                                             1   \n",
       "33                                             1   \n",
       "34                                             1   \n",
       "35                                             1   \n",
       "36                                             1   \n",
       "...                                          ...   \n",
       "166148                                         0   \n",
       "166149                                         0   \n",
       "166150                                         0   \n",
       "166151                                         0   \n",
       "166152                                         0   \n",
       "\n",
       "        bowling_team_Sunrisers Hyderabad  inning  season  overs  runs_last5  \\\n",
       "32                                     0       1    2008    5.1          59   \n",
       "33                                     0       1    2008    5.2          59   \n",
       "34                                     0       1    2008    5.3          59   \n",
       "35                                     0       1    2008    5.4          59   \n",
       "36                                     0       1    2008    5.5          58   \n",
       "...                                  ...     ...     ...    ...         ...   \n",
       "166148                                 0       2    2020   17.6          42   \n",
       "166149                                 0       2    2020   18.1          42   \n",
       "166150                                 0       2    2020   18.2          42   \n",
       "166151                                 0       2    2020   18.3          41   \n",
       "166152                                 0       2    2020   18.4          42   \n",
       "\n",
       "        wickets_last5  cum_runs  cum_wickets  total_runs  \n",
       "32                  0        61            0         222  \n",
       "33                  1        61            1         222  \n",
       "34                  1        61            1         222  \n",
       "35                  1        61            1         222  \n",
       "36                  1        61            1         222  \n",
       "...               ...       ...          ...         ...  \n",
       "166148              2       154            4         157  \n",
       "166149              2       155            4         157  \n",
       "166150              2       156            4         157  \n",
       "166151              3       156            5         157  \n",
       "166152              3       157            5         157  \n",
       "\n",
       "[122542 rows x 56 columns]"
      ]
     },
     "execution_count": 539,
     "metadata": {},
     "output_type": "execute_result"
    }
   ],
   "source": [
    "dataset"
   ]
  },
  {
   "cell_type": "markdown",
   "id": "8bd7ea53",
   "metadata": {},
   "source": [
    "### Data Split\n",
    "\n",
    "Split the data into training and testing sets.\n",
    "_Since, this is a time series data we cant't use train_test_split()._"
   ]
  },
  {
   "cell_type": "markdown",
   "id": "57fa1b65",
   "metadata": {},
   "source": [
    "Features-"
   ]
  },
  {
   "cell_type": "code",
   "execution_count": 540,
   "id": "0e494ce8",
   "metadata": {},
   "outputs": [],
   "source": [
    "X_train = dataset.drop(labels = 'total_runs', axis=1)[dataset['season'] <= 2017]\n",
    "X_test = dataset.drop(labels = 'total_runs', axis=1)[dataset['season'] >= 2018]"
   ]
  },
  {
   "cell_type": "markdown",
   "id": "d0fe78a6",
   "metadata": {},
   "source": [
    "Predictions-"
   ]
  },
  {
   "cell_type": "code",
   "execution_count": 526,
   "id": "04a5c467",
   "metadata": {},
   "outputs": [],
   "source": [
    "y_train = dataset[dataset['season'] <= 2017]['total_runs'].values\n",
    "y_test = dataset[dataset['season'] >= 2018]['total_runs'].values"
   ]
  },
  {
   "cell_type": "markdown",
   "id": "4816ef03",
   "metadata": {},
   "source": [
    "Drop season column which is not useful for prediction"
   ]
  },
  {
   "cell_type": "code",
   "execution_count": 527,
   "id": "19b84b27",
   "metadata": {},
   "outputs": [],
   "source": [
    "X_train.drop(columns = 'season', inplace=True)\n",
    "X_test.drop(columns = 'season', inplace=True)"
   ]
  },
  {
   "cell_type": "code",
   "execution_count": 528,
   "id": "9ce32144",
   "metadata": {},
   "outputs": [
    {
     "name": "stdout",
     "output_type": "stream",
     "text": [
      "(90587, 54)\n",
      "(31955, 54)\n"
     ]
    }
   ],
   "source": [
    "print(X_train.shape)\n",
    "print(X_test.shape)"
   ]
  },
  {
   "cell_type": "code",
   "execution_count": 529,
   "id": "dc854250",
   "metadata": {
    "scrolled": true
   },
   "outputs": [
    {
     "name": "stdout",
     "output_type": "stream",
     "text": [
      "(90587,)\n",
      "(31955,)\n"
     ]
    }
   ],
   "source": [
    "print(y_train.shape)\n",
    "print(y_test.shape)"
   ]
  },
  {
   "cell_type": "markdown",
   "id": "86f70a91",
   "metadata": {},
   "source": [
    "### Standardization"
   ]
  },
  {
   "cell_type": "code",
   "execution_count": 483,
   "id": "231b0b19",
   "metadata": {},
   "outputs": [],
   "source": [
    "y_train = y_train.reshape(len(y_train),1)\n",
    "y_test = y_test.reshape(len(y_test),1)"
   ]
  },
  {
   "cell_type": "code",
   "execution_count": 484,
   "id": "3e00f093",
   "metadata": {},
   "outputs": [],
   "source": [
    "from sklearn.preprocessing import StandardScaler\n",
    "sc_X = StandardScaler()\n",
    "X_train = sc_X.fit_transform(X_train)\n",
    "X_test = sc_X.transform(X_test)\n",
    "sc_y = StandardScaler()\n",
    "y_train = sc_y.fit_transform(y_train)\n",
    "y_test = sc_y.transform(y_test)"
   ]
  },
  {
   "cell_type": "code",
   "execution_count": 485,
   "id": "72f0104f",
   "metadata": {},
   "outputs": [
    {
     "data": {
      "text/plain": [
       "array([[-0., -0., -0., ..., -1., -1., -2.],\n",
       "       [-0., -0., -0., ..., -0., -1., -1.],\n",
       "       [-0., -0., -0., ..., -0., -1., -1.],\n",
       "       ...,\n",
       "       [-0., -0., -0., ..., -0.,  0.,  0.],\n",
       "       [-0., -0., -0., ..., -0.,  0.,  0.],\n",
       "       [-0., -0., -0., ..., -0.,  0.,  0.]])"
      ]
     },
     "execution_count": 485,
     "metadata": {},
     "output_type": "execute_result"
    }
   ],
   "source": [
    "X_train"
   ]
  },
  {
   "cell_type": "code",
   "execution_count": 486,
   "id": "a63b11f6",
   "metadata": {
    "scrolled": true
   },
   "outputs": [
    {
     "data": {
      "text/plain": [
       "array([[ 2.],\n",
       "       [ 2.],\n",
       "       [ 2.],\n",
       "       ...,\n",
       "       [-2.],\n",
       "       [-2.],\n",
       "       [-2.]])"
      ]
     },
     "execution_count": 486,
     "metadata": {},
     "output_type": "execute_result"
    }
   ],
   "source": [
    "y_train"
   ]
  },
  {
   "cell_type": "code",
   "execution_count": 487,
   "id": "d94f0848",
   "metadata": {},
   "outputs": [
    {
     "data": {
      "text/plain": [
       "array([[-0., -0., -0., ...,  1., -2., -1.],\n",
       "       [-0., -0., -0., ...,  1., -2., -1.],\n",
       "       [-0., -0., -0., ...,  1., -2., -1.],\n",
       "       ...,\n",
       "       [-0., -0., -0., ...,  1.,  2.,  0.],\n",
       "       [-0., -0., -0., ...,  2.,  2.,  1.],\n",
       "       [-0., -0., -0., ...,  2.,  2.,  1.]])"
      ]
     },
     "execution_count": 487,
     "metadata": {},
     "output_type": "execute_result"
    }
   ],
   "source": [
    "X_test"
   ]
  },
  {
   "cell_type": "code",
   "execution_count": 488,
   "id": "8588e2b5",
   "metadata": {
    "scrolled": true
   },
   "outputs": [
    {
     "data": {
      "text/plain": [
       "array([[0.],\n",
       "       [0.],\n",
       "       [0.],\n",
       "       ...,\n",
       "       [0.],\n",
       "       [0.],\n",
       "       [0.]])"
      ]
     },
     "execution_count": 488,
     "metadata": {},
     "output_type": "execute_result"
    }
   ],
   "source": [
    "y_test"
   ]
  },
  {
   "cell_type": "markdown",
   "id": "9db92302",
   "metadata": {},
   "source": [
    "### Function"
   ]
  },
  {
   "cell_type": "markdown",
   "id": "316c2d94",
   "metadata": {},
   "source": [
    "## Model Selection"
   ]
  },
  {
   "cell_type": "markdown",
   "id": "c78d54fe",
   "metadata": {},
   "source": [
    "### 1. Multiple Linear Regression"
   ]
  },
  {
   "cell_type": "code",
   "execution_count": 530,
   "id": "46aa835c",
   "metadata": {
    "scrolled": true
   },
   "outputs": [
    {
     "data": {
      "text/plain": [
       "LinearRegression()"
      ]
     },
     "execution_count": 530,
     "metadata": {},
     "output_type": "execute_result"
    }
   ],
   "source": [
    "from sklearn.linear_model import LinearRegression\n",
    "linear_regressor = LinearRegression()\n",
    "linear_regressor.fit(X_train, y_train)"
   ]
  },
  {
   "cell_type": "code",
   "execution_count": 532,
   "id": "4bcc2e2f",
   "metadata": {},
   "outputs": [
    {
     "ename": "UFuncTypeError",
     "evalue": "Cannot cast ufunc 'multiply' output from dtype('float64') to dtype('int64') with casting rule 'same_kind'",
     "output_type": "error",
     "traceback": [
      "\u001b[1;31m---------------------------------------------------------------------------\u001b[0m",
      "\u001b[1;31mUFuncTypeError\u001b[0m                            Traceback (most recent call last)",
      "\u001b[1;32m<ipython-input-532-1e7b675b351d>\u001b[0m in \u001b[0;36m<module>\u001b[1;34m\u001b[0m\n\u001b[0;32m      1\u001b[0m \u001b[0my_pred\u001b[0m \u001b[1;33m=\u001b[0m \u001b[0mlinear_regressor\u001b[0m\u001b[1;33m.\u001b[0m\u001b[0mpredict\u001b[0m\u001b[1;33m(\u001b[0m\u001b[0mX_train\u001b[0m\u001b[1;33m)\u001b[0m\u001b[1;33m\u001b[0m\u001b[1;33m\u001b[0m\u001b[0m\n\u001b[0;32m      2\u001b[0m \u001b[0mnp\u001b[0m\u001b[1;33m.\u001b[0m\u001b[0mset_printoptions\u001b[0m\u001b[1;33m(\u001b[0m\u001b[0mprecision\u001b[0m\u001b[1;33m=\u001b[0m\u001b[1;36m0\u001b[0m\u001b[1;33m)\u001b[0m\u001b[1;33m\u001b[0m\u001b[1;33m\u001b[0m\u001b[0m\n\u001b[1;32m----> 3\u001b[1;33m \u001b[0mprint\u001b[0m\u001b[1;33m(\u001b[0m\u001b[0mnp\u001b[0m\u001b[1;33m.\u001b[0m\u001b[0mconcatenate\u001b[0m\u001b[1;33m(\u001b[0m\u001b[1;33m(\u001b[0m\u001b[0msc_y\u001b[0m\u001b[1;33m.\u001b[0m\u001b[0minverse_transform\u001b[0m\u001b[1;33m(\u001b[0m\u001b[0my_pred\u001b[0m\u001b[1;33m.\u001b[0m\u001b[0mreshape\u001b[0m\u001b[1;33m(\u001b[0m\u001b[0mlen\u001b[0m\u001b[1;33m(\u001b[0m\u001b[0my_pred\u001b[0m\u001b[1;33m)\u001b[0m\u001b[1;33m,\u001b[0m\u001b[1;36m1\u001b[0m\u001b[1;33m)\u001b[0m\u001b[1;33m)\u001b[0m\u001b[1;33m,\u001b[0m \u001b[0msc_y\u001b[0m\u001b[1;33m.\u001b[0m\u001b[0minverse_transform\u001b[0m\u001b[1;33m(\u001b[0m\u001b[0my_train\u001b[0m\u001b[1;33m.\u001b[0m\u001b[0mreshape\u001b[0m\u001b[1;33m(\u001b[0m\u001b[0mlen\u001b[0m\u001b[1;33m(\u001b[0m\u001b[0my_train\u001b[0m\u001b[1;33m)\u001b[0m\u001b[1;33m,\u001b[0m\u001b[1;36m1\u001b[0m\u001b[1;33m)\u001b[0m\u001b[1;33m)\u001b[0m\u001b[1;33m)\u001b[0m\u001b[1;33m,\u001b[0m\u001b[1;36m1\u001b[0m\u001b[1;33m)\u001b[0m\u001b[1;33m)\u001b[0m\u001b[1;33m\u001b[0m\u001b[1;33m\u001b[0m\u001b[0m\n\u001b[0m",
      "\u001b[1;32m~\\.conda\\envs\\ipl_prediction\\lib\\site-packages\\sklearn\\preprocessing\\_data.py\u001b[0m in \u001b[0;36minverse_transform\u001b[1;34m(self, X, copy)\u001b[0m\n\u001b[0;32m    935\u001b[0m                 \u001b[0mX\u001b[0m \u001b[1;33m=\u001b[0m \u001b[0mX\u001b[0m\u001b[1;33m.\u001b[0m\u001b[0mcopy\u001b[0m\u001b[1;33m(\u001b[0m\u001b[1;33m)\u001b[0m\u001b[1;33m\u001b[0m\u001b[1;33m\u001b[0m\u001b[0m\n\u001b[0;32m    936\u001b[0m             \u001b[1;32mif\u001b[0m \u001b[0mself\u001b[0m\u001b[1;33m.\u001b[0m\u001b[0mwith_std\u001b[0m\u001b[1;33m:\u001b[0m\u001b[1;33m\u001b[0m\u001b[1;33m\u001b[0m\u001b[0m\n\u001b[1;32m--> 937\u001b[1;33m                 \u001b[0mX\u001b[0m \u001b[1;33m*=\u001b[0m \u001b[0mself\u001b[0m\u001b[1;33m.\u001b[0m\u001b[0mscale_\u001b[0m\u001b[1;33m\u001b[0m\u001b[1;33m\u001b[0m\u001b[0m\n\u001b[0m\u001b[0;32m    938\u001b[0m             \u001b[1;32mif\u001b[0m \u001b[0mself\u001b[0m\u001b[1;33m.\u001b[0m\u001b[0mwith_mean\u001b[0m\u001b[1;33m:\u001b[0m\u001b[1;33m\u001b[0m\u001b[1;33m\u001b[0m\u001b[0m\n\u001b[0;32m    939\u001b[0m                 \u001b[0mX\u001b[0m \u001b[1;33m+=\u001b[0m \u001b[0mself\u001b[0m\u001b[1;33m.\u001b[0m\u001b[0mmean_\u001b[0m\u001b[1;33m\u001b[0m\u001b[1;33m\u001b[0m\u001b[0m\n",
      "\u001b[1;31mUFuncTypeError\u001b[0m: Cannot cast ufunc 'multiply' output from dtype('float64') to dtype('int64') with casting rule 'same_kind'"
     ]
    }
   ],
   "source": [
    "y_pred = linear_regressor.predict(X_train)\n",
    "np.set_printoptions(precision=0)\n",
    "print(np.concatenate((sc_y.inverse_transform(y_pred.reshape(len(y_pred),1)), sc_y.inverse_transform(y_train.reshape(len(y_train),1))),1))"
   ]
  },
  {
   "cell_type": "code",
   "execution_count": null,
   "id": "66946294",
   "metadata": {},
   "outputs": [],
   "source": [
    "cv_linear = cross_val_score(estimator = linear_regressor, X=X_train, y=y_train, cv=5)\n",
    "linear_rmse = np.sqrt(metrics.mean_squared_error(sc_y.inverse_transform(y_pred),sc_y.inverse_transform(y_train)))\n",
    "linear_r2_score = linear_regressor.score(X_train,y_train)"
   ]
  },
  {
   "cell_type": "code",
   "execution_count": null,
   "id": "833fb7b9",
   "metadata": {},
   "outputs": [],
   "source": [
    "linear_r2_score"
   ]
  },
  {
   "cell_type": "code",
   "execution_count": 493,
   "id": "8bfa900f",
   "metadata": {
    "scrolled": true
   },
   "outputs": [
    {
     "name": "stdout",
     "output_type": "stream",
     "text": [
      "[[151. 165.]\n",
      " [150. 165.]\n",
      " [154. 165.]\n",
      " ...\n",
      " [165. 157.]\n",
      " [161. 157.]\n",
      " [162. 157.]]\n"
     ]
    }
   ],
   "source": [
    "y_pred = linear_regressor.predict(X_test)\n",
    "np.set_printoptions(precision=0)\n",
    "print(np.concatenate((sc_y.inverse_transform(y_pred.reshape(len(y_pred),1)), sc_y.inverse_transform(y_test.reshape(len(y_test),1))),1))"
   ]
  },
  {
   "cell_type": "code",
   "execution_count": 494,
   "id": "775478a5",
   "metadata": {
    "scrolled": true
   },
   "outputs": [
    {
     "name": "stdout",
     "output_type": "stream",
     "text": [
      "RMSE:  20.520093848012657\n",
      "R2_score:  0.4717246627891384\n"
     ]
    }
   ],
   "source": [
    "print('RMSE: ', np.sqrt(metrics.mean_squared_error(sc_y.inverse_transform(y_pred),sc_y.inverse_transform(y_test))))\n",
    "print('R2_score: ', linear_regressor.score(X_test,y_test))"
   ]
  },
  {
   "cell_type": "code",
   "execution_count": 495,
   "id": "3da52669",
   "metadata": {
    "scrolled": false
   },
   "outputs": [
    {
     "name": "stderr",
     "output_type": "stream",
     "text": [
      "C:\\Users\\SHADOW\\.conda\\envs\\ipl_prediction\\lib\\site-packages\\seaborn\\distributions.py:2557: FutureWarning: `distplot` is a deprecated function and will be removed in a future version. Please adapt your code to use either `displot` (a figure-level function with similar flexibility) or `histplot` (an axes-level function for histograms).\n",
      "  warnings.warn(msg, FutureWarning)\n"
     ]
    },
    {
     "data": {
      "text/plain": [
       "(<AxesSubplot:ylabel='Density'>,\n",
       " array([[165.],\n",
       "        [165.],\n",
       "        [165.],\n",
       "        ...,\n",
       "        [157.],\n",
       "        [157.],\n",
       "        [157.]]))"
      ]
     },
     "execution_count": 495,
     "metadata": {},
     "output_type": "execute_result"
    },
    {
     "data": {
      "image/png": "[encoded data removed]",
      "text/plain": [
       "<Figure size 432x288 with 1 Axes>"
      ]
     },
     "metadata": {
      "needs_background": "light"
     },
     "output_type": "display_data"
    }
   ],
   "source": [
    "sns.distplot(y_pred.reshape(len(y_pred),1)), sc_y.inverse_transform(y_test.reshape(len(y_test),1))"
   ]
  },
  {
   "cell_type": "code",
   "execution_count": 520,
   "id": "95ae5f60",
   "metadata": {},
   "outputs": [
    {
     "data": {
      "text/plain": [
       "61161326091"
      ]
     },
     "execution_count": 520,
     "metadata": {},
     "output_type": "execute_result"
    }
   ],
   "source": [
    "temp_array = [0, 0, 0, 0, 0, 0, 0, 0, 0, 0, 0, 0, 0, 1, 0, 0, 0, 0, 0, 0, 0, 0, 0, 0, 0, 0, 0, 0, 0, 0, 0, 0, 1, 0, 0, 0, 0, 0, 0, 0, 0, 0, 0, 0, 1, 0, 0, 0, 1, 7.5, 30, 1, 60, 1]\n",
    "data = np.array([temp_array])\n",
    "my_prediction = int(linear_regressor.predict(data)[0])\n",
    "my_prediction"
   ]
  },
  {
   "cell_type": "markdown",
   "id": "d9c4faf2",
   "metadata": {},
   "source": [
    "### 2. Decision Tree Regression"
   ]
  },
  {
   "cell_type": "code",
   "execution_count": 503,
   "id": "8c52d67b",
   "metadata": {},
   "outputs": [
    {
     "data": {
      "text/plain": [
       "DecisionTreeRegressor(random_state=0)"
      ]
     },
     "execution_count": 503,
     "metadata": {},
     "output_type": "execute_result"
    }
   ],
   "source": [
    "from sklearn.tree import DecisionTreeRegressor\n",
    "dt_regressor = DecisionTreeRegressor(random_state = 0)\n",
    "dt_regressor.fit(X_train, y_train)"
   ]
  },
  {
   "cell_type": "code",
   "execution_count": 504,
   "id": "4851a1a1",
   "metadata": {},
   "outputs": [
    {
     "name": "stdout",
     "output_type": "stream",
     "text": [
      "[[222. 222.]\n",
      " [222. 222.]\n",
      " [222. 222.]\n",
      " ...\n",
      " [111. 111.]\n",
      " [111. 111.]\n",
      " [111. 111.]]\n"
     ]
    }
   ],
   "source": [
    "y_pred = dt_regressor.predict(X_train)\n",
    "np.set_printoptions(precision=0)\n",
    "print(np.concatenate((sc_y.inverse_transform(y_pred.reshape(len(y_pred),1)), sc_y.inverse_transform(y_train.reshape(len(y_train),1))),1))"
   ]
  },
  {
   "cell_type": "code",
   "execution_count": 505,
   "id": "29db3b73",
   "metadata": {},
   "outputs": [],
   "source": [
    "cv_dt = cross_val_score(estimator = dt_regressor, X=X_train, y=y_train, cv=5)\n",
    "dt_rmse = np.sqrt(metrics.mean_squared_error(sc_y.inverse_transform(y_pred),sc_y.inverse_transform(y_train)))\n",
    "dt_r2_score = dt_regressor.score(X_train,y_train)"
   ]
  },
  {
   "cell_type": "code",
   "execution_count": 506,
   "id": "e9ed54f5",
   "metadata": {},
   "outputs": [
    {
     "data": {
      "text/plain": [
       "0.9999810507108783"
      ]
     },
     "execution_count": 506,
     "metadata": {},
     "output_type": "execute_result"
    }
   ],
   "source": [
    "dt_r2_score"
   ]
  },
  {
   "cell_type": "code",
   "execution_count": 507,
   "id": "bf7d96f0",
   "metadata": {},
   "outputs": [
    {
     "name": "stdout",
     "output_type": "stream",
     "text": [
      "[[164. 165.]\n",
      " [164. 165.]\n",
      " [148. 165.]\n",
      " ...\n",
      " [169. 157.]\n",
      " [169. 157.]\n",
      " [174. 157.]]\n"
     ]
    }
   ],
   "source": [
    "y_pred = dt_regressor.predict(X_test)\n",
    "np.set_printoptions(precision=0)\n",
    "print(np.concatenate((sc_y.inverse_transform(y_pred.reshape(len(y_pred),1)), sc_y.inverse_transform(y_test.reshape(len(y_test),1))),1))"
   ]
  },
  {
   "cell_type": "code",
   "execution_count": 508,
   "id": "0cf1b88a",
   "metadata": {},
   "outputs": [
    {
     "name": "stdout",
     "output_type": "stream",
     "text": [
      "RMSE:  27.639816969078883\n",
      "R2_score:  0.041544450780773845\n"
     ]
    }
   ],
   "source": [
    "print('RMSE: ', np.sqrt(metrics.mean_squared_error(sc_y.inverse_transform(y_pred),sc_y.inverse_transform(y_test))))\n",
    "print('R2_score: ', dt_regressor.score(X_test,y_test))"
   ]
  },
  {
   "cell_type": "code",
   "execution_count": 509,
   "id": "0dc8291a",
   "metadata": {},
   "outputs": [
    {
     "name": "stderr",
     "output_type": "stream",
     "text": [
      "C:\\Users\\SHADOW\\.conda\\envs\\ipl_prediction\\lib\\site-packages\\seaborn\\distributions.py:2557: FutureWarning: `distplot` is a deprecated function and will be removed in a future version. Please adapt your code to use either `displot` (a figure-level function with similar flexibility) or `histplot` (an axes-level function for histograms).\n",
      "  warnings.warn(msg, FutureWarning)\n"
     ]
    },
    {
     "data": {
      "text/plain": [
       "(<AxesSubplot:ylabel='Density'>,\n",
       " array([[165.],\n",
       "        [165.],\n",
       "        [165.],\n",
       "        ...,\n",
       "        [157.],\n",
       "        [157.],\n",
       "        [157.]]))"
      ]
     },
     "execution_count": 509,
     "metadata": {},
     "output_type": "execute_result"
    },
    {
     "data": {
      "image/png": "[encoded data removed]",
      "text/plain": [
       "<Figure size 432x288 with 1 Axes>"
      ]
     },
     "metadata": {
      "needs_background": "light"
     },
     "output_type": "display_data"
    }
   ],
   "source": [
    "sns.distplot(y_pred.reshape(len(y_pred),1)), sc_y.inverse_transform(y_test.reshape(len(y_test),1))"
   ]
  },
  {
   "cell_type": "code",
   "execution_count": 513,
   "id": "f2c40e10",
   "metadata": {},
   "outputs": [
    {
     "data": {
      "text/plain": [
       "array([3.])"
      ]
     },
     "execution_count": 513,
     "metadata": {},
     "output_type": "execute_result"
    }
   ],
   "source": [
    "temp_array = [0, 0, 0, 0, 0, 0, 0, 0, 0, 0, 0, 0, 0, 1, 0, 0, 0, 0, 0, 0, 0, 0, 0, 0, 0, 0, 0, 0, 0, 0, 0, 0, 1, 0, 0, 0, 0, 0, 0, 0, 0, 0, 0, 0, 1, 0, 0, 0, 2, 7.5, 30, 1, 60, 1]\n",
    "data = np.array([temp_array])\n",
    "my_prediction = int(dt_regressor.predict(data)[0])\n",
    "my_prediction"
   ]
  },
  {
   "cell_type": "markdown",
   "id": "c3141f0a",
   "metadata": {},
   "source": [
    "### 3. Random Forest Regression"
   ]
  },
  {
   "cell_type": "code",
   "execution_count": 514,
   "id": "25525bdf",
   "metadata": {},
   "outputs": [
    {
     "name": "stderr",
     "output_type": "stream",
     "text": [
      "<ipython-input-514-946cd212942c>:3: DataConversionWarning: A column-vector y was passed when a 1d array was expected. Please change the shape of y to (n_samples,), for example using ravel().\n",
      "  rf_regressor.fit(X_train, y_train)\n"
     ]
    },
    {
     "data": {
      "text/plain": [
       "RandomForestRegressor(n_estimators=10, random_state=0)"
      ]
     },
     "execution_count": 514,
     "metadata": {},
     "output_type": "execute_result"
    }
   ],
   "source": [
    "from sklearn.ensemble import RandomForestRegressor\n",
    "rf_regressor = RandomForestRegressor(n_estimators = 10, random_state = 0)\n",
    "rf_regressor.fit(X_train, y_train)"
   ]
  },
  {
   "cell_type": "code",
   "execution_count": 515,
   "id": "16e8c3da",
   "metadata": {},
   "outputs": [
    {
     "name": "stdout",
     "output_type": "stream",
     "text": [
      "[[217. 222.]\n",
      " [222. 222.]\n",
      " [222. 222.]\n",
      " ...\n",
      " [115. 111.]\n",
      " [111. 111.]\n",
      " [137. 111.]]\n"
     ]
    }
   ],
   "source": [
    "y_pred = rf_regressor.predict(X_train)\n",
    "np.set_printoptions(precision=0)\n",
    "print(np.concatenate((sc_y.inverse_transform(y_pred.reshape(len(y_pred),1)), sc_y.inverse_transform(y_train.reshape(len(y_train),1))),1))"
   ]
  },
  {
   "cell_type": "code",
   "execution_count": 399,
   "id": "4fff97ad",
   "metadata": {},
   "outputs": [
    {
     "name": "stderr",
     "output_type": "stream",
     "text": [
      "C:\\Users\\SHADOW\\.conda\\envs\\ipl_prediction\\lib\\site-packages\\sklearn\\model_selection\\_validation.py:598: DataConversionWarning: A column-vector y was passed when a 1d array was expected. Please change the shape of y to (n_samples,), for example using ravel().\n",
      "  estimator.fit(X_train, y_train, **fit_params)\n",
      "C:\\Users\\SHADOW\\.conda\\envs\\ipl_prediction\\lib\\site-packages\\sklearn\\model_selection\\_validation.py:598: DataConversionWarning: A column-vector y was passed when a 1d array was expected. Please change the shape of y to (n_samples,), for example using ravel().\n",
      "  estimator.fit(X_train, y_train, **fit_params)\n",
      "C:\\Users\\SHADOW\\.conda\\envs\\ipl_prediction\\lib\\site-packages\\sklearn\\model_selection\\_validation.py:598: DataConversionWarning: A column-vector y was passed when a 1d array was expected. Please change the shape of y to (n_samples,), for example using ravel().\n",
      "  estimator.fit(X_train, y_train, **fit_params)\n",
      "C:\\Users\\SHADOW\\.conda\\envs\\ipl_prediction\\lib\\site-packages\\sklearn\\model_selection\\_validation.py:598: DataConversionWarning: A column-vector y was passed when a 1d array was expected. Please change the shape of y to (n_samples,), for example using ravel().\n",
      "  estimator.fit(X_train, y_train, **fit_params)\n",
      "C:\\Users\\SHADOW\\.conda\\envs\\ipl_prediction\\lib\\site-packages\\sklearn\\model_selection\\_validation.py:598: DataConversionWarning: A column-vector y was passed when a 1d array was expected. Please change the shape of y to (n_samples,), for example using ravel().\n",
      "  estimator.fit(X_train, y_train, **fit_params)\n"
     ]
    }
   ],
   "source": [
    "cv_rf = cross_val_score(estimator = rf_regressor, X=X_train, y=y_train, cv=5)\n",
    "rf_rmse = np.sqrt(metrics.mean_squared_error(sc_y.inverse_transform(y_pred),sc_y.inverse_transform(y_train)))\n",
    "rf_r2_score = rf_regressor.score(X_train,y_train)"
   ]
  },
  {
   "cell_type": "code",
   "execution_count": 516,
   "id": "284c3d2f",
   "metadata": {},
   "outputs": [
    {
     "name": "stdout",
     "output_type": "stream",
     "text": [
      "[[151. 165.]\n",
      " [151. 165.]\n",
      " [150. 165.]\n",
      " ...\n",
      " [170. 157.]\n",
      " [168. 157.]\n",
      " [168. 157.]]\n"
     ]
    }
   ],
   "source": [
    "y_pred = rf_regressor.predict(X_test)\n",
    "np.set_printoptions(precision=0)\n",
    "print(np.concatenate((sc_y.inverse_transform(y_pred.reshape(len(y_pred),1)), sc_y.inverse_transform(y_test.reshape(len(y_test),1))),1))"
   ]
  },
  {
   "cell_type": "code",
   "execution_count": 517,
   "id": "4c107199",
   "metadata": {},
   "outputs": [
    {
     "name": "stdout",
     "output_type": "stream",
     "text": [
      "RMSE:  21.9517145696211\n",
      "R2_score:  0.39544120339705147\n"
     ]
    }
   ],
   "source": [
    "print('RMSE: ', np.sqrt(metrics.mean_squared_error(sc_y.inverse_transform(y_pred),sc_y.inverse_transform(y_test))))\n",
    "print('R2_score: ', rf_regressor.score(X_test,y_test))"
   ]
  },
  {
   "cell_type": "code",
   "execution_count": 518,
   "id": "ceebcd21",
   "metadata": {},
   "outputs": [
    {
     "name": "stderr",
     "output_type": "stream",
     "text": [
      "C:\\Users\\SHADOW\\.conda\\envs\\ipl_prediction\\lib\\site-packages\\seaborn\\distributions.py:2557: FutureWarning: `distplot` is a deprecated function and will be removed in a future version. Please adapt your code to use either `displot` (a figure-level function with similar flexibility) or `histplot` (an axes-level function for histograms).\n",
      "  warnings.warn(msg, FutureWarning)\n"
     ]
    },
    {
     "data": {
      "text/plain": [
       "(<AxesSubplot:ylabel='Density'>,\n",
       " array([[165.],\n",
       "        [165.],\n",
       "        [165.],\n",
       "        ...,\n",
       "        [157.],\n",
       "        [157.],\n",
       "        [157.]]))"
      ]
     },
     "execution_count": 518,
     "metadata": {},
     "output_type": "execute_result"
    },
    {
     "data": {
      "image/png": "[encoded data removed]",
      "text/plain": [
       "<Figure size 432x288 with 1 Axes>"
      ]
     },
     "metadata": {
      "needs_background": "light"
     },
     "output_type": "display_data"
    }
   ],
   "source": [
    "sns.distplot(y_pred.reshape(len(y_pred),1)), sc_y.inverse_transform(y_test.reshape(len(y_test),1))"
   ]
  },
  {
   "cell_type": "code",
   "execution_count": 519,
   "id": "f80ccfa3",
   "metadata": {},
   "outputs": [
    {
     "data": {
      "text/plain": [
       "2"
      ]
     },
     "execution_count": 519,
     "metadata": {},
     "output_type": "execute_result"
    }
   ],
   "source": [
    "temp_array = [0, 0, 0, 0, 0, 0, 0, 0, 0, 0, 0, 0, 0, 1, 0, 0, 0, 0, 0, 0, 0, 0, 0, 0, 0, 0, 0, 0, 0, 0, 0, 0, 1, 0, 0, 0, 0, 0, 0, 0, 0, 0, 0, 0, 1, 0, 0, 0, 1, 7.5, 30, 1, 60, 1]\n",
    "data = np.array([temp_array])\n",
    "my_prediction = int(rf_regressor.predict(data)[0])\n",
    "my_prediction"
   ]
  },
  {
   "cell_type": "markdown",
   "id": "fe982549",
   "metadata": {},
   "source": [
    "### 4. Ridge Regression"
   ]
  },
  {
   "cell_type": "code",
   "execution_count": 403,
   "id": "d5c7abac",
   "metadata": {},
   "outputs": [],
   "source": [
    "from sklearn.linear_model import Ridge\n",
    "from sklearn.model_selection import RandomizedSearchCV"
   ]
  },
  {
   "cell_type": "code",
   "execution_count": 533,
   "id": "e8900e17",
   "metadata": {},
   "outputs": [
    {
     "name": "stderr",
     "output_type": "stream",
     "text": [
      "C:\\Users\\SHADOW\\.conda\\envs\\ipl_prediction\\lib\\site-packages\\sklearn\\linear_model\\_ridge.py:147: LinAlgWarning: Ill-conditioned matrix (rcond=5.6647e-17): result may not be accurate.\n",
      "  return linalg.solve(A, Xy, sym_pos=True,\n"
     ]
    },
    {
     "data": {
      "text/plain": [
       "Ridge(alpha=1e-08)"
      ]
     },
     "execution_count": 533,
     "metadata": {},
     "output_type": "execute_result"
    }
   ],
   "source": [
    "ridge = Ridge()\n",
    "parameters = {'alpha' :[1e-15, 1e-10, 1e-8, 1e-3, 1e-2, 1, 10, 20, 30, 30, 50]}\n",
    "ridge_regressor = RandomizedSearchCV(ridge, parameters, scoring='neg_mean_squared_error', cv=5)\n",
    "ridge_regressor.fit(X_train, y_train)"
   ]
  },
  {
   "cell_type": "code",
   "execution_count": 535,
   "id": "11587a8f",
   "metadata": {},
   "outputs": [
    {
     "ename": "UFuncTypeError",
     "evalue": "Cannot cast ufunc 'multiply' output from dtype('float64') to dtype('int64') with casting rule 'same_kind'",
     "output_type": "error",
     "traceback": [
      "\u001b[1;31m---------------------------------------------------------------------------\u001b[0m",
      "\u001b[1;31mUFuncTypeError\u001b[0m                            Traceback (most recent call last)",
      "\u001b[1;32m<ipython-input-535-a0d069ed0b5c>\u001b[0m in \u001b[0;36m<module>\u001b[1;34m\u001b[0m\n\u001b[0;32m      1\u001b[0m \u001b[0my_pred\u001b[0m \u001b[1;33m=\u001b[0m \u001b[0mridge_regressor\u001b[0m\u001b[1;33m.\u001b[0m\u001b[0mpredict\u001b[0m\u001b[1;33m(\u001b[0m\u001b[0mX_train\u001b[0m\u001b[1;33m)\u001b[0m\u001b[1;33m\u001b[0m\u001b[1;33m\u001b[0m\u001b[0m\n\u001b[0;32m      2\u001b[0m \u001b[0mnp\u001b[0m\u001b[1;33m.\u001b[0m\u001b[0mset_printoptions\u001b[0m\u001b[1;33m(\u001b[0m\u001b[0mprecision\u001b[0m\u001b[1;33m=\u001b[0m\u001b[1;36m0\u001b[0m\u001b[1;33m)\u001b[0m\u001b[1;33m\u001b[0m\u001b[1;33m\u001b[0m\u001b[0m\n\u001b[1;32m----> 3\u001b[1;33m \u001b[0mprint\u001b[0m\u001b[1;33m(\u001b[0m\u001b[0mnp\u001b[0m\u001b[1;33m.\u001b[0m\u001b[0mconcatenate\u001b[0m\u001b[1;33m(\u001b[0m\u001b[1;33m(\u001b[0m\u001b[0msc_y\u001b[0m\u001b[1;33m.\u001b[0m\u001b[0minverse_transform\u001b[0m\u001b[1;33m(\u001b[0m\u001b[0my_pred\u001b[0m\u001b[1;33m.\u001b[0m\u001b[0mreshape\u001b[0m\u001b[1;33m(\u001b[0m\u001b[0mlen\u001b[0m\u001b[1;33m(\u001b[0m\u001b[0my_pred\u001b[0m\u001b[1;33m)\u001b[0m\u001b[1;33m,\u001b[0m\u001b[1;36m1\u001b[0m\u001b[1;33m)\u001b[0m\u001b[1;33m)\u001b[0m\u001b[1;33m,\u001b[0m \u001b[0msc_y\u001b[0m\u001b[1;33m.\u001b[0m\u001b[0minverse_transform\u001b[0m\u001b[1;33m(\u001b[0m\u001b[0my_train\u001b[0m\u001b[1;33m.\u001b[0m\u001b[0mreshape\u001b[0m\u001b[1;33m(\u001b[0m\u001b[0mlen\u001b[0m\u001b[1;33m(\u001b[0m\u001b[0my_train\u001b[0m\u001b[1;33m)\u001b[0m\u001b[1;33m,\u001b[0m\u001b[1;36m1\u001b[0m\u001b[1;33m)\u001b[0m\u001b[1;33m)\u001b[0m\u001b[1;33m)\u001b[0m\u001b[1;33m,\u001b[0m\u001b[1;36m1\u001b[0m\u001b[1;33m)\u001b[0m\u001b[1;33m)\u001b[0m\u001b[1;33m\u001b[0m\u001b[1;33m\u001b[0m\u001b[0m\n\u001b[0m",
      "\u001b[1;32m~\\.conda\\envs\\ipl_prediction\\lib\\site-packages\\sklearn\\preprocessing\\_data.py\u001b[0m in \u001b[0;36minverse_transform\u001b[1;34m(self, X, copy)\u001b[0m\n\u001b[0;32m    935\u001b[0m                 \u001b[0mX\u001b[0m \u001b[1;33m=\u001b[0m \u001b[0mX\u001b[0m\u001b[1;33m.\u001b[0m\u001b[0mcopy\u001b[0m\u001b[1;33m(\u001b[0m\u001b[1;33m)\u001b[0m\u001b[1;33m\u001b[0m\u001b[1;33m\u001b[0m\u001b[0m\n\u001b[0;32m    936\u001b[0m             \u001b[1;32mif\u001b[0m \u001b[0mself\u001b[0m\u001b[1;33m.\u001b[0m\u001b[0mwith_std\u001b[0m\u001b[1;33m:\u001b[0m\u001b[1;33m\u001b[0m\u001b[1;33m\u001b[0m\u001b[0m\n\u001b[1;32m--> 937\u001b[1;33m                 \u001b[0mX\u001b[0m \u001b[1;33m*=\u001b[0m \u001b[0mself\u001b[0m\u001b[1;33m.\u001b[0m\u001b[0mscale_\u001b[0m\u001b[1;33m\u001b[0m\u001b[1;33m\u001b[0m\u001b[0m\n\u001b[0m\u001b[0;32m    938\u001b[0m             \u001b[1;32mif\u001b[0m \u001b[0mself\u001b[0m\u001b[1;33m.\u001b[0m\u001b[0mwith_mean\u001b[0m\u001b[1;33m:\u001b[0m\u001b[1;33m\u001b[0m\u001b[1;33m\u001b[0m\u001b[0m\n\u001b[0;32m    939\u001b[0m                 \u001b[0mX\u001b[0m \u001b[1;33m+=\u001b[0m \u001b[0mself\u001b[0m\u001b[1;33m.\u001b[0m\u001b[0mmean_\u001b[0m\u001b[1;33m\u001b[0m\u001b[1;33m\u001b[0m\u001b[0m\n",
      "\u001b[1;31mUFuncTypeError\u001b[0m: Cannot cast ufunc 'multiply' output from dtype('float64') to dtype('int64') with casting rule 'same_kind'"
     ]
    }
   ],
   "source": [
    "y_pred = ridge_regressor.predict(X_train)\n",
    "np.set_printoptions(precision=0)\n",
    "print(np.concatenate((sc_y.inverse_transform(y_pred.reshape(len(y_pred),1)), sc_y.inverse_transform(y_train.reshape(len(y_train),1))),1))"
   ]
  },
  {
   "cell_type": "code",
   "execution_count": 407,
   "id": "0e373a4c",
   "metadata": {},
   "outputs": [
    {
     "name": "stderr",
     "output_type": "stream",
     "text": [
      "C:\\Users\\SHADOW\\.conda\\envs\\ipl_prediction\\lib\\site-packages\\sklearn\\linear_model\\_ridge.py:147: LinAlgWarning: Ill-conditioned matrix (rcond=6.23614e-21): result may not be accurate.\n",
      "  return linalg.solve(A, Xy, sym_pos=True,\n",
      "C:\\Users\\SHADOW\\.conda\\envs\\ipl_prediction\\lib\\site-packages\\sklearn\\linear_model\\_ridge.py:147: LinAlgWarning: Ill-conditioned matrix (rcond=6.29246e-21): result may not be accurate.\n",
      "  return linalg.solve(A, Xy, sym_pos=True,\n"
     ]
    }
   ],
   "source": [
    "cv_ridge = cross_val_score(estimator = ridge_regressor, X=X_train, y=y_train, cv=5)\n",
    "ridge_rmse = np.sqrt(metrics.mean_squared_error(sc_y.inverse_transform(y_pred),sc_y.inverse_transform(y_train)))\n",
    "ridge_r2_score = ridge_regressor.score(X_train,y_train)"
   ]
  },
  {
   "cell_type": "code",
   "execution_count": 408,
   "id": "daf019ce",
   "metadata": {},
   "outputs": [
    {
     "name": "stdout",
     "output_type": "stream",
     "text": [
      "[[154. 165.]\n",
      " [153. 165.]\n",
      " [157. 165.]\n",
      " ...\n",
      " [140. 156.]\n",
      " [145. 156.]\n",
      " [140. 156.]]\n"
     ]
    }
   ],
   "source": [
    "y_pred = ridge_regressor.predict(X_test)\n",
    "np.set_printoptions(precision=0)\n",
    "print(np.concatenate((sc_y.inverse_transform(y_pred.reshape(len(y_pred),1)), sc_y.inverse_transform(y_test.reshape(len(y_test),1))),1))"
   ]
  },
  {
   "cell_type": "code",
   "execution_count": 409,
   "id": "0e7c643a",
   "metadata": {},
   "outputs": [
    {
     "name": "stdout",
     "output_type": "stream",
     "text": [
      "RMSE:  19.425107248741075\n",
      "R2_score:  -0.4408956290091573\n"
     ]
    }
   ],
   "source": [
    "print('RMSE: ', np.sqrt(metrics.mean_squared_error(sc_y.inverse_transform(y_pred),sc_y.inverse_transform(y_test))))\n",
    "print('R2_score: ', ridge_regressor.score(X_test,y_test))"
   ]
  },
  {
   "cell_type": "code",
   "execution_count": 410,
   "id": "a976ff35",
   "metadata": {},
   "outputs": [
    {
     "name": "stderr",
     "output_type": "stream",
     "text": [
      "C:\\Users\\SHADOW\\.conda\\envs\\ipl_prediction\\lib\\site-packages\\seaborn\\distributions.py:2557: FutureWarning: `distplot` is a deprecated function and will be removed in a future version. Please adapt your code to use either `displot` (a figure-level function with similar flexibility) or `histplot` (an axes-level function for histograms).\n",
      "  warnings.warn(msg, FutureWarning)\n"
     ]
    },
    {
     "data": {
      "text/plain": [
       "(<AxesSubplot:ylabel='Density'>,\n",
       " array([[165.],\n",
       "        [165.],\n",
       "        [165.],\n",
       "        ...,\n",
       "        [156.],\n",
       "        [156.],\n",
       "        [156.]]))"
      ]
     },
     "execution_count": 410,
     "metadata": {},
     "output_type": "execute_result"
    },
    {
     "data": {
      "image/png": "[encoded data removed]",
      "text/plain": [
       "<Figure size 432x288 with 1 Axes>"
      ]
     },
     "metadata": {
      "needs_background": "light"
     },
     "output_type": "display_data"
    }
   ],
   "source": [
    "sns.distplot(y_pred.reshape(len(y_pred),1)), sc_y.inverse_transform(y_test.reshape(len(y_test),1))"
   ]
  },
  {
   "cell_type": "markdown",
   "id": "a9ac76d1",
   "metadata": {},
   "source": [
    "### 5. Lasso Regression"
   ]
  },
  {
   "cell_type": "code",
   "execution_count": 350,
   "id": "997969dd",
   "metadata": {},
   "outputs": [],
   "source": [
    "from sklearn.linear_model import Lasso\n",
    "from sklearn.model_selection import RandomizedSearchCV"
   ]
  },
  {
   "cell_type": "code",
   "execution_count": 351,
   "id": "30895ff4",
   "metadata": {},
   "outputs": [
    {
     "name": "stderr",
     "output_type": "stream",
     "text": [
      "C:\\Users\\SHADOW\\.conda\\envs\\ipl_prediction\\lib\\site-packages\\sklearn\\linear_model\\_coordinate_descent.py:530: ConvergenceWarning: Objective did not converge. You might want to increase the number of iterations. Duality gap: 1547.9248811997495, tolerance: 7.1681479034265285\n",
      "  model = cd_fast.enet_coordinate_descent(\n",
      "C:\\Users\\SHADOW\\.conda\\envs\\ipl_prediction\\lib\\site-packages\\sklearn\\linear_model\\_coordinate_descent.py:530: ConvergenceWarning: Objective did not converge. You might want to increase the number of iterations. Duality gap: 2867.7552705082853, tolerance: 7.230973398886745\n",
      "  model = cd_fast.enet_coordinate_descent(\n",
      "C:\\Users\\SHADOW\\.conda\\envs\\ipl_prediction\\lib\\site-packages\\sklearn\\linear_model\\_coordinate_descent.py:530: ConvergenceWarning: Objective did not converge. You might want to increase the number of iterations. Duality gap: 3385.8777035645617, tolerance: 7.381729468537824\n",
      "  model = cd_fast.enet_coordinate_descent(\n",
      "C:\\Users\\SHADOW\\.conda\\envs\\ipl_prediction\\lib\\site-packages\\sklearn\\linear_model\\_coordinate_descent.py:530: ConvergenceWarning: Objective did not converge. You might want to increase the number of iterations. Duality gap: 137.17594894953436, tolerance: 7.413251765252608\n",
      "  model = cd_fast.enet_coordinate_descent(\n",
      "C:\\Users\\SHADOW\\.conda\\envs\\ipl_prediction\\lib\\site-packages\\sklearn\\linear_model\\_coordinate_descent.py:530: ConvergenceWarning: Objective did not converge. You might want to increase the number of iterations. Duality gap: 943.0418569080939, tolerance: 7.01568514464853\n",
      "  model = cd_fast.enet_coordinate_descent(\n",
      "C:\\Users\\SHADOW\\.conda\\envs\\ipl_prediction\\lib\\site-packages\\sklearn\\linear_model\\_coordinate_descent.py:530: ConvergenceWarning: Objective did not converge. You might want to increase the number of iterations. Duality gap: 1547.9242644161495, tolerance: 7.1681479034265285\n",
      "  model = cd_fast.enet_coordinate_descent(\n",
      "C:\\Users\\SHADOW\\.conda\\envs\\ipl_prediction\\lib\\site-packages\\sklearn\\linear_model\\_coordinate_descent.py:530: ConvergenceWarning: Objective did not converge. You might want to increase the number of iterations. Duality gap: 2867.753797016263, tolerance: 7.230973398886745\n",
      "  model = cd_fast.enet_coordinate_descent(\n",
      "C:\\Users\\SHADOW\\.conda\\envs\\ipl_prediction\\lib\\site-packages\\sklearn\\linear_model\\_coordinate_descent.py:530: ConvergenceWarning: Objective did not converge. You might want to increase the number of iterations. Duality gap: 3385.8761980112904, tolerance: 7.381729468537824\n",
      "  model = cd_fast.enet_coordinate_descent(\n",
      "C:\\Users\\SHADOW\\.conda\\envs\\ipl_prediction\\lib\\site-packages\\sklearn\\linear_model\\_coordinate_descent.py:530: ConvergenceWarning: Objective did not converge. You might want to increase the number of iterations. Duality gap: 137.17501338379225, tolerance: 7.413251765252608\n",
      "  model = cd_fast.enet_coordinate_descent(\n",
      "C:\\Users\\SHADOW\\.conda\\envs\\ipl_prediction\\lib\\site-packages\\sklearn\\linear_model\\_coordinate_descent.py:530: ConvergenceWarning: Objective did not converge. You might want to increase the number of iterations. Duality gap: 943.0405912979841, tolerance: 7.01568514464853\n",
      "  model = cd_fast.enet_coordinate_descent(\n",
      "C:\\Users\\SHADOW\\.conda\\envs\\ipl_prediction\\lib\\site-packages\\sklearn\\linear_model\\_coordinate_descent.py:530: ConvergenceWarning: Objective did not converge. You might want to increase the number of iterations. Duality gap: 1550.9777667257658, tolerance: 7.1681479034265285\n",
      "  model = cd_fast.enet_coordinate_descent(\n",
      "C:\\Users\\SHADOW\\.conda\\envs\\ipl_prediction\\lib\\site-packages\\sklearn\\linear_model\\_coordinate_descent.py:530: ConvergenceWarning: Objective did not converge. You might want to increase the number of iterations. Duality gap: 2917.4558387709585, tolerance: 7.230973398886745\n",
      "  model = cd_fast.enet_coordinate_descent(\n",
      "C:\\Users\\SHADOW\\.conda\\envs\\ipl_prediction\\lib\\site-packages\\sklearn\\linear_model\\_coordinate_descent.py:530: ConvergenceWarning: Objective did not converge. You might want to increase the number of iterations. Duality gap: 3442.4802976762476, tolerance: 7.381729468537824\n",
      "  model = cd_fast.enet_coordinate_descent(\n",
      "C:\\Users\\SHADOW\\.conda\\envs\\ipl_prediction\\lib\\site-packages\\sklearn\\linear_model\\_coordinate_descent.py:530: ConvergenceWarning: Objective did not converge. You might want to increase the number of iterations. Duality gap: 312.864871214264, tolerance: 7.413251765252608\n",
      "  model = cd_fast.enet_coordinate_descent(\n",
      "C:\\Users\\SHADOW\\.conda\\envs\\ipl_prediction\\lib\\site-packages\\sklearn\\linear_model\\_coordinate_descent.py:530: ConvergenceWarning: Objective did not converge. You might want to increase the number of iterations. Duality gap: 1012.9976889512945, tolerance: 7.01568514464853\n",
      "  model = cd_fast.enet_coordinate_descent(\n"
     ]
    },
    {
     "data": {
      "text/plain": [
       "RandomizedSearchCV(cv=5, estimator=Lasso(),\n",
       "                   param_distributions={'alpha': [1e-15, 1e-10, 1e-08, 0.001,\n",
       "                                                  0.01, 1, 10, 20, 30, 30,\n",
       "                                                  50]},\n",
       "                   scoring='neg_mean_squared_error')"
      ]
     },
     "execution_count": 351,
     "metadata": {},
     "output_type": "execute_result"
    }
   ],
   "source": [
    "lasso = Lasso()\n",
    "parameters = {'alpha' :[1e-15, 1e-10, 1e-8, 1e-3, 1e-2, 1, 10, 20, 30, 30, 50]}\n",
    "lasso_regressor = RandomizedSearchCV(lasso, parameters, scoring='neg_mean_squared_error', cv=5)\n",
    "lasso_regressor.fit(X_train, y_train)"
   ]
  },
  {
   "cell_type": "code",
   "execution_count": 352,
   "id": "255e8f82",
   "metadata": {},
   "outputs": [
    {
     "name": "stdout",
     "output_type": "stream",
     "text": [
      "{'alpha': 0.01}\n",
      "-0.4632576553859652\n"
     ]
    }
   ],
   "source": [
    "print(lasso_regressor.best_params_)\n",
    "print(lasso_regressor.best_score_)"
   ]
  },
  {
   "cell_type": "code",
   "execution_count": 353,
   "id": "926c904d",
   "metadata": {},
   "outputs": [
    {
     "name": "stdout",
     "output_type": "stream",
     "text": [
      "[[184. 222.]\n",
      " [180. 222.]\n",
      " [180. 222.]\n",
      " ...\n",
      " [150. 111.]\n",
      " [149. 111.]\n",
      " [152. 111.]]\n"
     ]
    }
   ],
   "source": [
    "y_pred = lasso_regressor.predict(X_train)\n",
    "np.set_printoptions(precision=0)\n",
    "print(np.concatenate((sc_y.inverse_transform(y_pred.reshape(len(y_pred),1)), sc_y.inverse_transform(y_train.reshape(len(y_train),1))),1))"
   ]
  },
  {
   "cell_type": "code",
   "execution_count": 354,
   "id": "5810dc00",
   "metadata": {},
   "outputs": [
    {
     "name": "stderr",
     "output_type": "stream",
     "text": [
      "C:\\Users\\SHADOW\\.conda\\envs\\ipl_prediction\\lib\\site-packages\\sklearn\\linear_model\\_coordinate_descent.py:530: ConvergenceWarning: Objective did not converge. You might want to increase the number of iterations. Duality gap: 1288.5680443393721, tolerance: 5.746895748694049\n",
      "  model = cd_fast.enet_coordinate_descent(\n",
      "C:\\Users\\SHADOW\\.conda\\envs\\ipl_prediction\\lib\\site-packages\\sklearn\\linear_model\\_coordinate_descent.py:530: ConvergenceWarning: Objective did not converge. You might want to increase the number of iterations. Duality gap: 2637.138937360138, tolerance: 5.690625062682204\n",
      "  model = cd_fast.enet_coordinate_descent(\n",
      "C:\\Users\\SHADOW\\.conda\\envs\\ipl_prediction\\lib\\site-packages\\sklearn\\linear_model\\_coordinate_descent.py:530: ConvergenceWarning: Objective did not converge. You might want to increase the number of iterations. Duality gap: 2675.795297989567, tolerance: 5.742291904913737\n",
      "  model = cd_fast.enet_coordinate_descent(\n",
      "C:\\Users\\SHADOW\\.conda\\envs\\ipl_prediction\\lib\\site-packages\\sklearn\\linear_model\\_coordinate_descent.py:530: ConvergenceWarning: Objective did not converge. You might want to increase the number of iterations. Duality gap: 1233.1955301574526, tolerance: 5.960458631181078\n",
      "  model = cd_fast.enet_coordinate_descent(\n",
      "C:\\Users\\SHADOW\\.conda\\envs\\ipl_prediction\\lib\\site-packages\\sklearn\\linear_model\\_coordinate_descent.py:530: ConvergenceWarning: Objective did not converge. You might want to increase the number of iterations. Duality gap: 743.3802325190481, tolerance: 5.496608160785002\n",
      "  model = cd_fast.enet_coordinate_descent(\n",
      "C:\\Users\\SHADOW\\.conda\\envs\\ipl_prediction\\lib\\site-packages\\sklearn\\linear_model\\_coordinate_descent.py:530: ConvergenceWarning: Objective did not converge. You might want to increase the number of iterations. Duality gap: 1248.053308331353, tolerance: 5.746895748694049\n",
      "  model = cd_fast.enet_coordinate_descent(\n",
      "C:\\Users\\SHADOW\\.conda\\envs\\ipl_prediction\\lib\\site-packages\\sklearn\\linear_model\\_coordinate_descent.py:530: ConvergenceWarning: Objective did not converge. You might want to increase the number of iterations. Duality gap: 2668.3800026964163, tolerance: 5.690625062682204\n",
      "  model = cd_fast.enet_coordinate_descent(\n",
      "C:\\Users\\SHADOW\\.conda\\envs\\ipl_prediction\\lib\\site-packages\\sklearn\\linear_model\\_coordinate_descent.py:530: ConvergenceWarning: Objective did not converge. You might want to increase the number of iterations. Duality gap: 2637.957899971654, tolerance: 5.742291904913737\n",
      "  model = cd_fast.enet_coordinate_descent(\n",
      "C:\\Users\\SHADOW\\.conda\\envs\\ipl_prediction\\lib\\site-packages\\sklearn\\linear_model\\_coordinate_descent.py:530: ConvergenceWarning: Objective did not converge. You might want to increase the number of iterations. Duality gap: 1276.315470008285, tolerance: 5.960458631181078\n",
      "  model = cd_fast.enet_coordinate_descent(\n",
      "C:\\Users\\SHADOW\\.conda\\envs\\ipl_prediction\\lib\\site-packages\\sklearn\\linear_model\\_coordinate_descent.py:530: ConvergenceWarning: Objective did not converge. You might want to increase the number of iterations. Duality gap: 739.1157724701734, tolerance: 5.496608160785002\n",
      "  model = cd_fast.enet_coordinate_descent(\n",
      "C:\\Users\\SHADOW\\.conda\\envs\\ipl_prediction\\lib\\site-packages\\sklearn\\linear_model\\_coordinate_descent.py:530: ConvergenceWarning: Objective did not converge. You might want to increase the number of iterations. Duality gap: 1212.4256876837062, tolerance: 5.611236242711462\n",
      "  model = cd_fast.enet_coordinate_descent(\n",
      "C:\\Users\\SHADOW\\.conda\\envs\\ipl_prediction\\lib\\site-packages\\sklearn\\linear_model\\_coordinate_descent.py:530: ConvergenceWarning: Objective did not converge. You might want to increase the number of iterations. Duality gap: 2257.3601716094527, tolerance: 5.893597774288625\n",
      "  model = cd_fast.enet_coordinate_descent(\n",
      "C:\\Users\\SHADOW\\.conda\\envs\\ipl_prediction\\lib\\site-packages\\sklearn\\linear_model\\_coordinate_descent.py:530: ConvergenceWarning: Objective did not converge. You might want to increase the number of iterations. Duality gap: 1087.2504463604782, tolerance: 5.81762890976322\n",
      "  model = cd_fast.enet_coordinate_descent(\n",
      "C:\\Users\\SHADOW\\.conda\\envs\\ipl_prediction\\lib\\site-packages\\sklearn\\linear_model\\_coordinate_descent.py:530: ConvergenceWarning: Objective did not converge. You might want to increase the number of iterations. Duality gap: 634.909723202145, tolerance: 6.011219332994507\n",
      "  model = cd_fast.enet_coordinate_descent(\n",
      "C:\\Users\\SHADOW\\.conda\\envs\\ipl_prediction\\lib\\site-packages\\sklearn\\linear_model\\_coordinate_descent.py:530: ConvergenceWarning: Objective did not converge. You might want to increase the number of iterations. Duality gap: 1004.0122946870943, tolerance: 5.544561345501978\n",
      "  model = cd_fast.enet_coordinate_descent(\n",
      "C:\\Users\\SHADOW\\.conda\\envs\\ipl_prediction\\lib\\site-packages\\sklearn\\linear_model\\_coordinate_descent.py:530: ConvergenceWarning: Objective did not converge. You might want to increase the number of iterations. Duality gap: 1265.6013795703293, tolerance: 5.611236242711462\n",
      "  model = cd_fast.enet_coordinate_descent(\n",
      "C:\\Users\\SHADOW\\.conda\\envs\\ipl_prediction\\lib\\site-packages\\sklearn\\linear_model\\_coordinate_descent.py:530: ConvergenceWarning: Objective did not converge. You might want to increase the number of iterations. Duality gap: 2284.3129512586165, tolerance: 5.893597774288625\n",
      "  model = cd_fast.enet_coordinate_descent(\n",
      "C:\\Users\\SHADOW\\.conda\\envs\\ipl_prediction\\lib\\site-packages\\sklearn\\linear_model\\_coordinate_descent.py:530: ConvergenceWarning: Objective did not converge. You might want to increase the number of iterations. Duality gap: 1118.732798312507, tolerance: 5.81762890976322\n",
      "  model = cd_fast.enet_coordinate_descent(\n",
      "C:\\Users\\SHADOW\\.conda\\envs\\ipl_prediction\\lib\\site-packages\\sklearn\\linear_model\\_coordinate_descent.py:530: ConvergenceWarning: Objective did not converge. You might want to increase the number of iterations. Duality gap: 538.7849874816857, tolerance: 6.011219332994507\n",
      "  model = cd_fast.enet_coordinate_descent(\n",
      "C:\\Users\\SHADOW\\.conda\\envs\\ipl_prediction\\lib\\site-packages\\sklearn\\linear_model\\_coordinate_descent.py:530: ConvergenceWarning: Objective did not converge. You might want to increase the number of iterations. Duality gap: 1025.830908311873, tolerance: 5.544561345501978\n",
      "  model = cd_fast.enet_coordinate_descent(\n",
      "C:\\Users\\SHADOW\\.conda\\envs\\ipl_prediction\\lib\\site-packages\\sklearn\\linear_model\\_coordinate_descent.py:530: ConvergenceWarning: Objective did not converge. You might want to increase the number of iterations. Duality gap: 1094.205023715429, tolerance: 5.75927600596833\n",
      "  model = cd_fast.enet_coordinate_descent(\n",
      "C:\\Users\\SHADOW\\.conda\\envs\\ipl_prediction\\lib\\site-packages\\sklearn\\linear_model\\_coordinate_descent.py:530: ConvergenceWarning: Objective did not converge. You might want to increase the number of iterations. Duality gap: 1306.3680735960843, tolerance: 6.086224265962967\n",
      "  model = cd_fast.enet_coordinate_descent(\n",
      "C:\\Users\\SHADOW\\.conda\\envs\\ipl_prediction\\lib\\site-packages\\sklearn\\linear_model\\_coordinate_descent.py:530: ConvergenceWarning: Objective did not converge. You might want to increase the number of iterations. Duality gap: 389.031959915872, tolerance: 5.763641392074482\n",
      "  model = cd_fast.enet_coordinate_descent(\n",
      "C:\\Users\\SHADOW\\.conda\\envs\\ipl_prediction\\lib\\site-packages\\sklearn\\linear_model\\_coordinate_descent.py:530: ConvergenceWarning: Objective did not converge. You might want to increase the number of iterations. Duality gap: 419.7230415715276, tolerance: 6.171055267966498\n",
      "  model = cd_fast.enet_coordinate_descent(\n",
      "C:\\Users\\SHADOW\\.conda\\envs\\ipl_prediction\\lib\\site-packages\\sklearn\\linear_model\\_coordinate_descent.py:530: ConvergenceWarning: Objective did not converge. You might want to increase the number of iterations. Duality gap: 1020.3173597782188, tolerance: 5.706485935570462\n",
      "  model = cd_fast.enet_coordinate_descent(\n",
      "C:\\Users\\SHADOW\\.conda\\envs\\ipl_prediction\\lib\\site-packages\\sklearn\\linear_model\\_coordinate_descent.py:530: ConvergenceWarning: Objective did not converge. You might want to increase the number of iterations. Duality gap: 1525.6453414637126, tolerance: 5.75927600596833\n",
      "  model = cd_fast.enet_coordinate_descent(\n"
     ]
    },
    {
     "name": "stderr",
     "output_type": "stream",
     "text": [
      "C:\\Users\\SHADOW\\.conda\\envs\\ipl_prediction\\lib\\site-packages\\sklearn\\linear_model\\_coordinate_descent.py:530: ConvergenceWarning: Objective did not converge. You might want to increase the number of iterations. Duality gap: 1261.590266223102, tolerance: 6.086224265962967\n",
      "  model = cd_fast.enet_coordinate_descent(\n",
      "C:\\Users\\SHADOW\\.conda\\envs\\ipl_prediction\\lib\\site-packages\\sklearn\\linear_model\\_coordinate_descent.py:530: ConvergenceWarning: Objective did not converge. You might want to increase the number of iterations. Duality gap: 466.0780044516978, tolerance: 5.763641392074482\n",
      "  model = cd_fast.enet_coordinate_descent(\n",
      "C:\\Users\\SHADOW\\.conda\\envs\\ipl_prediction\\lib\\site-packages\\sklearn\\linear_model\\_coordinate_descent.py:530: ConvergenceWarning: Objective did not converge. You might want to increase the number of iterations. Duality gap: 379.3302712205077, tolerance: 6.171055267966498\n",
      "  model = cd_fast.enet_coordinate_descent(\n",
      "C:\\Users\\SHADOW\\.conda\\envs\\ipl_prediction\\lib\\site-packages\\sklearn\\linear_model\\_coordinate_descent.py:530: ConvergenceWarning: Objective did not converge. You might want to increase the number of iterations. Duality gap: 1045.1750987975247, tolerance: 5.706485935570462\n",
      "  model = cd_fast.enet_coordinate_descent(\n",
      "C:\\Users\\SHADOW\\.conda\\envs\\ipl_prediction\\lib\\site-packages\\sklearn\\linear_model\\_coordinate_descent.py:530: ConvergenceWarning: Objective did not converge. You might want to increase the number of iterations. Duality gap: 1094.205165889398, tolerance: 5.75927600596833\n",
      "  model = cd_fast.enet_coordinate_descent(\n",
      "C:\\Users\\SHADOW\\.conda\\envs\\ipl_prediction\\lib\\site-packages\\sklearn\\linear_model\\_coordinate_descent.py:530: ConvergenceWarning: Objective did not converge. You might want to increase the number of iterations. Duality gap: 1306.3675101436456, tolerance: 6.086224265962967\n",
      "  model = cd_fast.enet_coordinate_descent(\n",
      "C:\\Users\\SHADOW\\.conda\\envs\\ipl_prediction\\lib\\site-packages\\sklearn\\linear_model\\_coordinate_descent.py:530: ConvergenceWarning: Objective did not converge. You might want to increase the number of iterations. Duality gap: 389.03148325499933, tolerance: 5.763641392074482\n",
      "  model = cd_fast.enet_coordinate_descent(\n",
      "C:\\Users\\SHADOW\\.conda\\envs\\ipl_prediction\\lib\\site-packages\\sklearn\\linear_model\\_coordinate_descent.py:530: ConvergenceWarning: Objective did not converge. You might want to increase the number of iterations. Duality gap: 419.722313247039, tolerance: 6.171055267966498\n",
      "  model = cd_fast.enet_coordinate_descent(\n",
      "C:\\Users\\SHADOW\\.conda\\envs\\ipl_prediction\\lib\\site-packages\\sklearn\\linear_model\\_coordinate_descent.py:530: ConvergenceWarning: Objective did not converge. You might want to increase the number of iterations. Duality gap: 1020.3171589632075, tolerance: 5.706485935570462\n",
      "  model = cd_fast.enet_coordinate_descent(\n",
      "C:\\Users\\SHADOW\\.conda\\envs\\ipl_prediction\\lib\\site-packages\\sklearn\\linear_model\\_coordinate_descent.py:530: ConvergenceWarning: Objective did not converge. You might want to increase the number of iterations. Duality gap: 79.5135557609392, tolerance: 5.795639399629961\n",
      "  model = cd_fast.enet_coordinate_descent(\n",
      "C:\\Users\\SHADOW\\.conda\\envs\\ipl_prediction\\lib\\site-packages\\sklearn\\linear_model\\_coordinate_descent.py:530: ConvergenceWarning: Objective did not converge. You might want to increase the number of iterations. Duality gap: 227.3308362043681, tolerance: 6.124737133356796\n",
      "  model = cd_fast.enet_coordinate_descent(\n",
      "C:\\Users\\SHADOW\\.conda\\envs\\ipl_prediction\\lib\\site-packages\\sklearn\\linear_model\\_coordinate_descent.py:530: ConvergenceWarning: Objective did not converge. You might want to increase the number of iterations. Duality gap: 516.7485619313557, tolerance: 5.809995275899911\n",
      "  model = cd_fast.enet_coordinate_descent(\n",
      "C:\\Users\\SHADOW\\.conda\\envs\\ipl_prediction\\lib\\site-packages\\sklearn\\linear_model\\_coordinate_descent.py:530: ConvergenceWarning: Objective did not converge. You might want to increase the number of iterations. Duality gap: 649.8711683454203, tolerance: 6.187229858577159\n",
      "  model = cd_fast.enet_coordinate_descent(\n",
      "C:\\Users\\SHADOW\\.conda\\envs\\ipl_prediction\\lib\\site-packages\\sklearn\\linear_model\\_coordinate_descent.py:530: ConvergenceWarning: Objective did not converge. You might want to increase the number of iterations. Duality gap: 1446.9975368072028, tolerance: 5.711638454103038\n",
      "  model = cd_fast.enet_coordinate_descent(\n",
      "C:\\Users\\SHADOW\\.conda\\envs\\ipl_prediction\\lib\\site-packages\\sklearn\\linear_model\\_coordinate_descent.py:530: ConvergenceWarning: Objective did not converge. You might want to increase the number of iterations. Duality gap: 86.28022925465848, tolerance: 5.795639399629961\n",
      "  model = cd_fast.enet_coordinate_descent(\n",
      "C:\\Users\\SHADOW\\.conda\\envs\\ipl_prediction\\lib\\site-packages\\sklearn\\linear_model\\_coordinate_descent.py:530: ConvergenceWarning: Objective did not converge. You might want to increase the number of iterations. Duality gap: 220.45191365009305, tolerance: 6.124737133356796\n",
      "  model = cd_fast.enet_coordinate_descent(\n",
      "C:\\Users\\SHADOW\\.conda\\envs\\ipl_prediction\\lib\\site-packages\\sklearn\\linear_model\\_coordinate_descent.py:530: ConvergenceWarning: Objective did not converge. You might want to increase the number of iterations. Duality gap: 532.1365714848835, tolerance: 5.809995275899911\n",
      "  model = cd_fast.enet_coordinate_descent(\n",
      "C:\\Users\\SHADOW\\.conda\\envs\\ipl_prediction\\lib\\site-packages\\sklearn\\linear_model\\_coordinate_descent.py:530: ConvergenceWarning: Objective did not converge. You might want to increase the number of iterations. Duality gap: 604.1905381568904, tolerance: 6.187229858577159\n",
      "  model = cd_fast.enet_coordinate_descent(\n",
      "C:\\Users\\SHADOW\\.conda\\envs\\ipl_prediction\\lib\\site-packages\\sklearn\\linear_model\\_coordinate_descent.py:530: ConvergenceWarning: Objective did not converge. You might want to increase the number of iterations. Duality gap: 1397.072873647101, tolerance: 5.711638454103038\n",
      "  model = cd_fast.enet_coordinate_descent(\n",
      "C:\\Users\\SHADOW\\.conda\\envs\\ipl_prediction\\lib\\site-packages\\sklearn\\linear_model\\_coordinate_descent.py:530: ConvergenceWarning: Objective did not converge. You might want to increase the number of iterations. Duality gap: 712.5827052109307, tolerance: 5.39856883168779\n",
      "  model = cd_fast.enet_coordinate_descent(\n",
      "C:\\Users\\SHADOW\\.conda\\envs\\ipl_prediction\\lib\\site-packages\\sklearn\\linear_model\\_coordinate_descent.py:530: ConvergenceWarning: Objective did not converge. You might want to increase the number of iterations. Duality gap: 788.2377153499147, tolerance: 5.729558906437809\n",
      "  model = cd_fast.enet_coordinate_descent(\n",
      "C:\\Users\\SHADOW\\.conda\\envs\\ipl_prediction\\lib\\site-packages\\sklearn\\linear_model\\_coordinate_descent.py:530: ConvergenceWarning: Objective did not converge. You might want to increase the number of iterations. Duality gap: 1915.6848485544488, tolerance: 5.4212855475407515\n",
      "  model = cd_fast.enet_coordinate_descent(\n",
      "C:\\Users\\SHADOW\\.conda\\envs\\ipl_prediction\\lib\\site-packages\\sklearn\\linear_model\\_coordinate_descent.py:530: ConvergenceWarning: Objective did not converge. You might want to increase the number of iterations. Duality gap: 1473.9596081661439, tolerance: 5.73957231700541\n",
      "  model = cd_fast.enet_coordinate_descent(\n",
      "C:\\Users\\SHADOW\\.conda\\envs\\ipl_prediction\\lib\\site-packages\\sklearn\\linear_model\\_coordinate_descent.py:530: ConvergenceWarning: Objective did not converge. You might want to increase the number of iterations. Duality gap: 1389.5544716765944, tolerance: 5.756626116332555\n",
      "  model = cd_fast.enet_coordinate_descent(\n",
      "C:\\Users\\SHADOW\\.conda\\envs\\ipl_prediction\\lib\\site-packages\\sklearn\\linear_model\\_coordinate_descent.py:530: ConvergenceWarning: Objective did not converge. You might want to increase the number of iterations. Duality gap: 662.6587862937595, tolerance: 5.39856883168779\n",
      "  model = cd_fast.enet_coordinate_descent(\n",
      "C:\\Users\\SHADOW\\.conda\\envs\\ipl_prediction\\lib\\site-packages\\sklearn\\linear_model\\_coordinate_descent.py:530: ConvergenceWarning: Objective did not converge. You might want to increase the number of iterations. Duality gap: 707.9049920080142, tolerance: 5.729558906437809\n",
      "  model = cd_fast.enet_coordinate_descent(\n"
     ]
    },
    {
     "name": "stderr",
     "output_type": "stream",
     "text": [
      "C:\\Users\\SHADOW\\.conda\\envs\\ipl_prediction\\lib\\site-packages\\sklearn\\linear_model\\_coordinate_descent.py:530: ConvergenceWarning: Objective did not converge. You might want to increase the number of iterations. Duality gap: 1902.9986803346765, tolerance: 5.4212855475407515\n",
      "  model = cd_fast.enet_coordinate_descent(\n",
      "C:\\Users\\SHADOW\\.conda\\envs\\ipl_prediction\\lib\\site-packages\\sklearn\\linear_model\\_coordinate_descent.py:530: ConvergenceWarning: Objective did not converge. You might want to increase the number of iterations. Duality gap: 1497.2127922722448, tolerance: 5.73957231700541\n",
      "  model = cd_fast.enet_coordinate_descent(\n",
      "C:\\Users\\SHADOW\\.conda\\envs\\ipl_prediction\\lib\\site-packages\\sklearn\\linear_model\\_coordinate_descent.py:530: ConvergenceWarning: Objective did not converge. You might want to increase the number of iterations. Duality gap: 1344.5149028947217, tolerance: 5.756626116332555\n",
      "  model = cd_fast.enet_coordinate_descent(\n",
      "C:\\Users\\SHADOW\\.conda\\envs\\ipl_prediction\\lib\\site-packages\\sklearn\\linear_model\\_coordinate_descent.py:530: ConvergenceWarning: Objective did not converge. You might want to increase the number of iterations. Duality gap: 712.583105936108, tolerance: 5.39856883168779\n",
      "  model = cd_fast.enet_coordinate_descent(\n",
      "C:\\Users\\SHADOW\\.conda\\envs\\ipl_prediction\\lib\\site-packages\\sklearn\\linear_model\\_coordinate_descent.py:530: ConvergenceWarning: Objective did not converge. You might want to increase the number of iterations. Duality gap: 788.2390774025189, tolerance: 5.729558906437809\n",
      "  model = cd_fast.enet_coordinate_descent(\n",
      "C:\\Users\\SHADOW\\.conda\\envs\\ipl_prediction\\lib\\site-packages\\sklearn\\linear_model\\_coordinate_descent.py:530: ConvergenceWarning: Objective did not converge. You might want to increase the number of iterations. Duality gap: 1915.685700625594, tolerance: 5.4212855475407515\n",
      "  model = cd_fast.enet_coordinate_descent(\n",
      "C:\\Users\\SHADOW\\.conda\\envs\\ipl_prediction\\lib\\site-packages\\sklearn\\linear_model\\_coordinate_descent.py:530: ConvergenceWarning: Objective did not converge. You might want to increase the number of iterations. Duality gap: 1473.9609048625698, tolerance: 5.73957231700541\n",
      "  model = cd_fast.enet_coordinate_descent(\n",
      "C:\\Users\\SHADOW\\.conda\\envs\\ipl_prediction\\lib\\site-packages\\sklearn\\linear_model\\_coordinate_descent.py:530: ConvergenceWarning: Objective did not converge. You might want to increase the number of iterations. Duality gap: 1389.5553170892872, tolerance: 5.756626116332555\n",
      "  model = cd_fast.enet_coordinate_descent(\n"
     ]
    }
   ],
   "source": [
    "cv_lasso = cross_val_score(estimator = lasso_regressor, X=X_train, y=y_train, cv=5)\n",
    "lasso_rmse = np.sqrt(metrics.mean_squared_error(sc_y.inverse_transform(y_pred),sc_y.inverse_transform(y_train)))\n",
    "lasso_r2_score = lasso_regressor.score(X_train,y_train)"
   ]
  },
  {
   "cell_type": "code",
   "execution_count": 355,
   "id": "e8e929ed",
   "metadata": {},
   "outputs": [
    {
     "name": "stdout",
     "output_type": "stream",
     "text": [
      "[[150. 165.]\n",
      " [149. 165.]\n",
      " [152. 165.]\n",
      " ...\n",
      " [168. 157.]\n",
      " [164. 157.]\n",
      " [164. 157.]]\n"
     ]
    }
   ],
   "source": [
    "y_pred = lasso_regressor.predict(X_test)\n",
    "np.set_printoptions(precision=0)\n",
    "print(np.concatenate((sc_y.inverse_transform(y_pred.reshape(len(y_pred),1)), sc_y.inverse_transform(y_test.reshape(len(y_test),1))),1))"
   ]
  },
  {
   "cell_type": "code",
   "execution_count": 356,
   "id": "d24883ca",
   "metadata": {
    "scrolled": true
   },
   "outputs": [
    {
     "name": "stdout",
     "output_type": "stream",
     "text": [
      "RMSE:  20.462763623951957\n",
      "R2_score:  -0.5043970176594624\n"
     ]
    }
   ],
   "source": [
    "print('RMSE: ', np.sqrt(metrics.mean_squared_error(sc_y.inverse_transform(y_pred),sc_y.inverse_transform(y_test))))\n",
    "print('R2_score: ', lasso_regressor.score(X_test,y_test))"
   ]
  },
  {
   "cell_type": "code",
   "execution_count": 357,
   "id": "7921e6f4",
   "metadata": {
    "scrolled": true
   },
   "outputs": [
    {
     "name": "stderr",
     "output_type": "stream",
     "text": [
      "C:\\Users\\SHADOW\\.conda\\envs\\ipl_prediction\\lib\\site-packages\\seaborn\\distributions.py:2557: FutureWarning: `distplot` is a deprecated function and will be removed in a future version. Please adapt your code to use either `displot` (a figure-level function with similar flexibility) or `histplot` (an axes-level function for histograms).\n",
      "  warnings.warn(msg, FutureWarning)\n"
     ]
    },
    {
     "data": {
      "text/plain": [
       "(<AxesSubplot:ylabel='Density'>,\n",
       " array([[165.],\n",
       "        [165.],\n",
       "        [165.],\n",
       "        ...,\n",
       "        [157.],\n",
       "        [157.],\n",
       "        [157.]]))"
      ]
     },
     "execution_count": 357,
     "metadata": {},
     "output_type": "execute_result"
    },
    {
     "data": {
      "image/png": "[encoded data removed]",
      "text/plain": [
       "<Figure size 432x288 with 1 Axes>"
      ]
     },
     "metadata": {
      "needs_background": "light"
     },
     "output_type": "display_data"
    }
   ],
   "source": [
    "sns.distplot(y_pred.reshape(len(y_pred),1)), sc_y.inverse_transform(y_test.reshape(len(y_test),1))"
   ]
  },
  {
   "cell_type": "markdown",
   "id": "7447334c",
   "metadata": {},
   "source": [
    "### 5. Support Vector Regression"
   ]
  },
  {
   "cell_type": "code",
   "execution_count": 358,
   "id": "81677f7b",
   "metadata": {},
   "outputs": [
    {
     "name": "stderr",
     "output_type": "stream",
     "text": [
      "C:\\Users\\SHADOW\\.conda\\envs\\ipl_prediction\\lib\\site-packages\\sklearn\\utils\\validation.py:63: DataConversionWarning: A column-vector y was passed when a 1d array was expected. Please change the shape of y to (n_samples, ), for example using ravel().\n",
      "  return f(*args, **kwargs)\n"
     ]
    },
    {
     "data": {
      "text/plain": [
       "SVR()"
      ]
     },
     "execution_count": 358,
     "metadata": {},
     "output_type": "execute_result"
    }
   ],
   "source": [
    "from sklearn.svm import SVR\n",
    "svr_regressor = SVR(kernel = 'rbf')\n",
    "svr_regressor.fit(X_train, y_train)"
   ]
  },
  {
   "cell_type": "code",
   "execution_count": 359,
   "id": "378d4f16",
   "metadata": {},
   "outputs": [
    {
     "name": "stdout",
     "output_type": "stream",
     "text": [
      "[[175. 222.]\n",
      " [160. 222.]\n",
      " [160. 222.]\n",
      " ...\n",
      " [114. 111.]\n",
      " [113. 111.]\n",
      " [114. 111.]]\n"
     ]
    }
   ],
   "source": [
    "y_pred = svr_regressor.predict(X_train)\n",
    "np.set_printoptions(precision=0)\n",
    "print(np.concatenate((sc_y.inverse_transform(y_pred.reshape(len(y_pred),1)), sc_y.inverse_transform(y_train.reshape(len(y_train),1))),1))"
   ]
  },
  {
   "cell_type": "code",
   "execution_count": 360,
   "id": "4253dddf",
   "metadata": {},
   "outputs": [
    {
     "name": "stderr",
     "output_type": "stream",
     "text": [
      "C:\\Users\\SHADOW\\.conda\\envs\\ipl_prediction\\lib\\site-packages\\sklearn\\utils\\validation.py:63: DataConversionWarning: A column-vector y was passed when a 1d array was expected. Please change the shape of y to (n_samples, ), for example using ravel().\n",
      "  return f(*args, **kwargs)\n",
      "C:\\Users\\SHADOW\\.conda\\envs\\ipl_prediction\\lib\\site-packages\\sklearn\\utils\\validation.py:63: DataConversionWarning: A column-vector y was passed when a 1d array was expected. Please change the shape of y to (n_samples, ), for example using ravel().\n",
      "  return f(*args, **kwargs)\n",
      "C:\\Users\\SHADOW\\.conda\\envs\\ipl_prediction\\lib\\site-packages\\sklearn\\utils\\validation.py:63: DataConversionWarning: A column-vector y was passed when a 1d array was expected. Please change the shape of y to (n_samples, ), for example using ravel().\n",
      "  return f(*args, **kwargs)\n",
      "C:\\Users\\SHADOW\\.conda\\envs\\ipl_prediction\\lib\\site-packages\\sklearn\\utils\\validation.py:63: DataConversionWarning: A column-vector y was passed when a 1d array was expected. Please change the shape of y to (n_samples, ), for example using ravel().\n",
      "  return f(*args, **kwargs)\n",
      "C:\\Users\\SHADOW\\.conda\\envs\\ipl_prediction\\lib\\site-packages\\sklearn\\utils\\validation.py:63: DataConversionWarning: A column-vector y was passed when a 1d array was expected. Please change the shape of y to (n_samples, ), for example using ravel().\n",
      "  return f(*args, **kwargs)\n"
     ]
    }
   ],
   "source": [
    "cv_svr = cross_val_score(estimator = svr_regressor, X=X_train, y=y_train, cv=5)\n",
    "svr_rmse = np.sqrt(metrics.mean_squared_error(sc_y.inverse_transform(y_pred),sc_y.inverse_transform(y_train)))\n",
    "svr_r2_score = svr_regressor.score(X_train,y_train)"
   ]
  },
  {
   "cell_type": "code",
   "execution_count": 365,
   "id": "534a5881",
   "metadata": {},
   "outputs": [
    {
     "data": {
      "text/plain": [
       "0.84782309582922"
      ]
     },
     "execution_count": 365,
     "metadata": {},
     "output_type": "execute_result"
    }
   ],
   "source": [
    "svr_r2_score"
   ]
  },
  {
   "cell_type": "code",
   "execution_count": 542,
   "id": "22bd547d",
   "metadata": {},
   "outputs": [
    {
     "data": {
      "text/plain": [
       "array([0., 0., 0., 0., 0.])"
      ]
     },
     "execution_count": 542,
     "metadata": {},
     "output_type": "execute_result"
    }
   ],
   "source": [
    "cv_svr"
   ]
  },
  {
   "cell_type": "code",
   "execution_count": 361,
   "id": "bcb09c87",
   "metadata": {},
   "outputs": [
    {
     "name": "stdout",
     "output_type": "stream",
     "text": [
      "[[148. 165.]\n",
      " [147. 165.]\n",
      " [151. 165.]\n",
      " ...\n",
      " [154. 157.]\n",
      " [153. 157.]\n",
      " [154. 157.]]\n"
     ]
    }
   ],
   "source": [
    "y_pred = svr_regressor.predict(X_test)\n",
    "np.set_printoptions(precision=0)\n",
    "print(np.concatenate((sc_y.inverse_transform(y_pred.reshape(len(y_pred),1)), sc_y.inverse_transform(y_test.reshape(len(y_test),1))),1))"
   ]
  },
  {
   "cell_type": "code",
   "execution_count": 363,
   "id": "bab3b67a",
   "metadata": {},
   "outputs": [
    {
     "name": "stdout",
     "output_type": "stream",
     "text": [
      "RMSE:  27.12219813976485\n",
      "R2 score:  0.07710685691904107\n"
     ]
    }
   ],
   "source": [
    "print('RMSE: ', np.sqrt(metrics.mean_squared_error(sc_y.inverse_transform(y_pred),sc_y.inverse_transform(y_test))))\n",
    "print('R2 score: ', svr_regressor.score(X_test,y_test))"
   ]
  },
  {
   "cell_type": "code",
   "execution_count": 364,
   "id": "6d15b502",
   "metadata": {},
   "outputs": [
    {
     "name": "stderr",
     "output_type": "stream",
     "text": [
      "C:\\Users\\SHADOW\\.conda\\envs\\ipl_prediction\\lib\\site-packages\\seaborn\\distributions.py:2557: FutureWarning: `distplot` is a deprecated function and will be removed in a future version. Please adapt your code to use either `displot` (a figure-level function with similar flexibility) or `histplot` (an axes-level function for histograms).\n",
      "  warnings.warn(msg, FutureWarning)\n"
     ]
    },
    {
     "data": {
      "text/plain": [
       "(<AxesSubplot:ylabel='Density'>,\n",
       " array([[165.],\n",
       "        [165.],\n",
       "        [165.],\n",
       "        ...,\n",
       "        [157.],\n",
       "        [157.],\n",
       "        [157.]]))"
      ]
     },
     "execution_count": 364,
     "metadata": {},
     "output_type": "execute_result"
    },
    {
     "data": {
      "image/png": "[encoded data removed]",
      "text/plain": [
       "<Figure size 432x288 with 1 Axes>"
      ]
     },
     "metadata": {
      "needs_background": "light"
     },
     "output_type": "display_data"
    }
   ],
   "source": [
    "sns.distplot(y_pred.reshape(len(y_pred),1)), sc_y.inverse_transform(y_test.reshape(len(y_test),1))"
   ]
  },
  {
   "cell_type": "markdown",
   "id": "b152c840",
   "metadata": {},
   "source": [
    "## Model Selection"
   ]
  },
  {
   "cell_type": "code",
   "execution_count": 416,
   "id": "73eb01a0",
   "metadata": {},
   "outputs": [
    {
     "data": {
      "text/html": [
       "<div>\n",
       "<style scoped>\n",
       "    .dataframe tbody tr th:only-of-type {\n",
       "        vertical-align: middle;\n",
       "    }\n",
       "\n",
       "    .dataframe tbody tr th {\n",
       "        vertical-align: top;\n",
       "    }\n",
       "\n",
       "    .dataframe thead th {\n",
       "        text-align: right;\n",
       "    }\n",
       "</style>\n",
       "<table border=\"1\" class=\"dataframe\">\n",
       "  <thead>\n",
       "    <tr style=\"text-align: right;\">\n",
       "      <th></th>\n",
       "      <th>Model</th>\n",
       "      <th>CV score</th>\n",
       "      <th>RMSE</th>\n",
       "      <th>R2 Score</th>\n",
       "    </tr>\n",
       "  </thead>\n",
       "  <tbody>\n",
       "    <tr>\n",
       "      <th>0</th>\n",
       "      <td>Linear Regression</td>\n",
       "      <td>-1.400479e+24</td>\n",
       "      <td>17.255572</td>\n",
       "      <td>0.652089</td>\n",
       "    </tr>\n",
       "    <tr>\n",
       "      <th>1</th>\n",
       "      <td>Decision Tree Regression</td>\n",
       "      <td>2.521646e-01</td>\n",
       "      <td>0.157459</td>\n",
       "      <td>0.999971</td>\n",
       "    </tr>\n",
       "    <tr>\n",
       "      <th>2</th>\n",
       "      <td>Random Forest Regression</td>\n",
       "      <td>4.940022e-01</td>\n",
       "      <td>2.705358</td>\n",
       "      <td>0.991448</td>\n",
       "    </tr>\n",
       "    <tr>\n",
       "      <th>3</th>\n",
       "      <td>Ridge Regression</td>\n",
       "      <td>-3.985458e-01</td>\n",
       "      <td>17.251531</td>\n",
       "      <td>-0.347748</td>\n",
       "    </tr>\n",
       "    <tr>\n",
       "      <th>4</th>\n",
       "      <td>Lasso Regression</td>\n",
       "      <td>-4.632577e-01</td>\n",
       "      <td>19.055592</td>\n",
       "      <td>-0.437410</td>\n",
       "    </tr>\n",
       "    <tr>\n",
       "      <th>5</th>\n",
       "      <td>SVR Regression</td>\n",
       "      <td>2.601642e-01</td>\n",
       "      <td>11.239640</td>\n",
       "      <td>0.847823</td>\n",
       "    </tr>\n",
       "  </tbody>\n",
       "</table>\n",
       "</div>"
      ],
      "text/plain": [
       "                      Model      CV score       RMSE  R2 Score\n",
       "0         Linear Regression -1.400479e+24  17.255572  0.652089\n",
       "1  Decision Tree Regression  2.521646e-01   0.157459  0.999971\n",
       "2  Random Forest Regression  4.940022e-01   2.705358  0.991448\n",
       "3          Ridge Regression -3.985458e-01  17.251531 -0.347748\n",
       "4          Lasso Regression -4.632577e-01  19.055592 -0.437410\n",
       "5            SVR Regression  2.601642e-01  11.239640  0.847823"
      ]
     },
     "execution_count": 416,
     "metadata": {},
     "output_type": "execute_result"
    }
   ],
   "source": [
    "models=[\n",
    "        ('Linear Regression', cv_linear.mean(), linear_rmse, linear_r2_score),\n",
    "        ('Decision Tree Regression', cv_dt.mean(), dt_rmse, dt_r2_score),\n",
    "        ('Random Forest Regression', cv_rf.mean(), rf_rmse, rf_r2_score),\n",
    "        ('Ridge Regression', cv_ridge.mean(), ridge_rmse, ridge_r2_score),\n",
    "        ('Lasso Regression', cv_lasso.mean(), lasso_rmse, lasso_r2_score),\n",
    "        ('SVR Regression', cv_svr.mean(), svr_rmse, svr_r2_score)\n",
    "        ]\n",
    "compare = pd.DataFrame(data=models, columns=['Model','CV score', 'RMSE', 'R2 Score'])\n",
    "compare"
   ]
  },
  {
   "cell_type": "markdown",
   "id": "9979299f",
   "metadata": {},
   "source": [
    "Based on the above observations, the best model for the dataset is _Ridge Regression_ with\n",
    "lowest RMSE of 20.3 and positive R2-score of 0.075"
   ]
  },
  {
   "cell_type": "markdown",
   "id": "613f394b",
   "metadata": {},
   "source": [
    "#### Creating a pickle file for saving the model. "
   ]
  },
  {
   "cell_type": "code",
   "execution_count": 417,
   "id": "f9ae33c0",
   "metadata": {},
   "outputs": [],
   "source": [
    "filename = 'ml_regression_predict.pkl'\n",
    "pickle.dump(linear_regressor, open(filename, 'wb'))"
   ]
  },
  {
   "cell_type": "code",
   "execution_count": 261,
   "id": "eacbcfc5",
   "metadata": {},
   "outputs": [],
   "source": [
    "filename = 'dt_regression_predict.pkl'\n",
    "pickle.dump(dt_regressor, open(filename, 'wb'))"
   ]
  },
  {
   "cell_type": "code",
   "execution_count": 262,
   "id": "a1a4cab4",
   "metadata": {},
   "outputs": [],
   "source": [
    "filename = 'rf_regression_predict.pkl'\n",
    "pickle.dump(rf_regressor, open(filename, 'wb'))"
   ]
  },
  {
   "cell_type": "code",
   "execution_count": 263,
   "id": "178c4d58",
   "metadata": {},
   "outputs": [],
   "source": [
    "filename = 'rg_regression_predict.pkl'\n",
    "pickle.dump(ridge_regressor, open(filename, 'wb'))"
   ]
  },
  {
   "cell_type": "code",
   "execution_count": 264,
   "id": "ff84c0b2",
   "metadata": {},
   "outputs": [],
   "source": [
    "filename = 'lasso_regression_predict.pkl'\n",
    "pickle.dump(lasso_regressor, open(filename, 'wb'))"
   ]
  },
  {
   "cell_type": "code",
   "execution_count": null,
   "id": "36495c80",
   "metadata": {},
   "outputs": [],
   "source": [
    "filename = 'svr_regression_predict.pkl'\n",
    "pickle.dump(svr_regressor, open(filename, 'wb'))"
   ]
  }
 ],
 "metadata": {
  "kernelspec": {
   "display_name": "Python 3",
   "language": "python",
   "name": "python3"
  },
  "language_info": {
   "codemirror_mode": {
    "name": "ipython",
    "version": 3
   },
   "file_extension": ".py",
   "mimetype": "text/x-python",
   "name": "python",
   "nbconvert_exporter": "python",
   "pygments_lexer": "ipython3",
   "version": "3.8.10"
  }
 },
 "nbformat": 4,
 "nbformat_minor": 5
}
